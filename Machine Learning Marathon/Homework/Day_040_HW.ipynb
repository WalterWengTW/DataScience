{
 "cells": [
  {
   "cell_type": "markdown",
   "metadata": {},
   "source": [
    "## [作業重點]\n",
    "使用 Sklearn 中的 Lasso, Ridge 模型，來訓練各種資料集，務必了解送進去模型訓練的**資料型態**為何，也請了解模型中各項參數的意義。\n",
    "\n",
    "機器學習的模型非常多種，但要訓練的資料多半有固定的格式，確保你了解訓練資料的格式為何，這樣在應用新模型時，就能夠最快的上手開始訓練！"
   ]
  },
  {
   "cell_type": "markdown",
   "metadata": {},
   "source": [
    "## 練習時間\n",
    "試著使用 sklearn datasets 的其他資料集 (boston, ...)，來訓練自己的線性迴歸模型，並加上適當的正則話來觀察訓練情形。"
   ]
  },
  {
   "cell_type": "code",
   "execution_count": 1,
   "metadata": {},
   "outputs": [],
   "source": [
    "import numpy as np\n",
    "import matplotlib.pyplot as plt\n",
    "from sklearn import datasets, linear_model\n",
    "from sklearn.model_selection import train_test_split\n",
    "from sklearn.metrics import mean_squared_error, r2_score, accuracy_score\n",
    "from sklearn.preprocessing import MinMaxScaler"
   ]
  },
  {
   "cell_type": "code",
   "execution_count": 2,
   "metadata": {},
   "outputs": [],
   "source": [
    "boston = datasets.load_boston()\n",
    "Boston_data = boston.data\n",
    "Boston_target = boston.target\n",
    "\n",
    "X_train, X_test, y_train, y_test = train_test_split(Boston_data, Boston_target, test_size = 0.2, random_state = 42)"
   ]
  },
  {
   "cell_type": "markdown",
   "metadata": {},
   "source": [
    "## Linear Regression"
   ]
  },
  {
   "cell_type": "code",
   "execution_count": 3,
   "metadata": {},
   "outputs": [
    {
     "name": "stdout",
     "output_type": "stream",
     "text": [
      "Mean Square Error : 24.291\n",
      "R Square Score : 0.669\n"
     ]
    }
   ],
   "source": [
    "lnrg = linear_model.LinearRegression()\n",
    "\n",
    "Stdn = MinMaxScaler()\n",
    "\n",
    "Stdn.fit(Boston_data)\n",
    "\n",
    "X_train_n, X_test_n = Stdn.transform(X_train), Stdn.transform(X_test)\n",
    "\n",
    "lnrg.fit(X_train_n, y_train)\n",
    "\n",
    "y_pred = lnrg.predict(X_test_n)\n",
    "\n",
    "print(\"Mean Square Error : %.3f\"%mean_squared_error(y_pred, y_test))\n",
    "print(\"R Square Score : %.3f\"%r2_score(y_test, y_pred))"
   ]
  },
  {
   "cell_type": "code",
   "execution_count": 4,
   "metadata": {},
   "outputs": [
    {
     "name": "stdout",
     "output_type": "stream",
     "text": [
      "[-10.05857199   3.01104641   1.10158605   2.7844382   -8.36047983\n",
      "  23.16628091  -0.61137677 -15.92203067   6.03588392  -5.57891601\n",
      "  -8.60528866   4.89829233 -18.43062842]\n"
     ]
    }
   ],
   "source": [
    "print(lnrg.coef_)"
   ]
  },
  {
   "cell_type": "markdown",
   "metadata": {},
   "source": [
    "## LASSO"
   ]
  },
  {
   "cell_type": "code",
   "execution_count": 5,
   "metadata": {},
   "outputs": [
    {
     "name": "stdout",
     "output_type": "stream",
     "text": [
      "Mean Square Error : 24.275\n",
      "R Square Score : 0.669\n"
     ]
    }
   ],
   "source": [
    "lasso = linear_model.Lasso(alpha=3e-3)\n",
    "\n",
    "Stdn = MinMaxScaler()\n",
    "\n",
    "Stdn.fit(Boston_data)\n",
    "\n",
    "X_train_n, X_test_n = Stdn.transform(X_train), Stdn.transform(X_test)\n",
    "\n",
    "lasso.fit(X_train_n, y_train)\n",
    "\n",
    "y_pred = lasso.predict(X_test_n)\n",
    "\n",
    "print(\"Mean Square Error : %.3f\"%mean_squared_error(y_pred, y_test))\n",
    "print(\"R Square Score : %.3f\"%r2_score(y_test, y_pred))"
   ]
  },
  {
   "cell_type": "code",
   "execution_count": 6,
   "metadata": {},
   "outputs": [
    {
     "name": "stdout",
     "output_type": "stream",
     "text": [
      "[ -9.45528052   2.74472932   0.70666967   2.79645836  -8.0238057\n",
      "  23.10688555  -0.51386412 -15.41244556   5.5472756   -5.05670861\n",
      "  -8.53243138   4.84217107 -18.45607539]\n"
     ]
    }
   ],
   "source": [
    "print(lasso.coef_)"
   ]
  },
  {
   "cell_type": "code",
   "execution_count": 7,
   "metadata": {},
   "outputs": [
    {
     "name": "stderr",
     "output_type": "stream",
     "text": [
      "D:\\Anaconda3\\envs\\DNNGPU\\lib\\site-packages\\ipykernel_launcher.py:5: UserWarning: With alpha=0, this algorithm does not converge well. You are advised to use the LinearRegression estimator\n",
      "  \"\"\"\n",
      "D:\\Anaconda3\\envs\\DNNGPU\\lib\\site-packages\\sklearn\\linear_model\\coordinate_descent.py:475: UserWarning: Coordinate descent with no regularization may lead to unexpected results and is discouraged.\n",
      "  positive)\n",
      "D:\\Anaconda3\\envs\\DNNGPU\\lib\\site-packages\\sklearn\\linear_model\\coordinate_descent.py:475: ConvergenceWarning: Objective did not converge. You might want to increase the number of iterations. Duality gap: 4371.56537615171, tolerance: 3.509685514851485\n",
      "  positive)\n"
     ]
    }
   ],
   "source": [
    "r2 = []\n",
    "alphas = []\n",
    "for alpha in range(0,5000):\n",
    "    lasso = linear_model.Lasso(alpha=alpha/10000)\n",
    "    lasso.fit(X_train_n, y_train)\n",
    "    y_pred = lasso.predict(X_test_n)\n",
    "    alphas.append(alpha/10000)\n",
    "    r2.append(r2_score(y_test, y_pred))"
   ]
  },
  {
   "cell_type": "code",
   "execution_count": 8,
   "metadata": {},
   "outputs": [
    {
     "data": {
      "image/png": "[encoded data removed]",
      "text/plain": [
       "<Figure size 432x288 with 1 Axes>"
      ]
     },
     "metadata": {
      "needs_background": "light"
     },
     "output_type": "display_data"
    }
   ],
   "source": [
    "import matplotlib.pyplot as plt\n",
    "plt.plot(alphas, r2)\n",
    "plt.xlabel('alpha')\n",
    "plt.ylabel('R2')\n",
    "plt.title('LASSO model R2 score by alpha')\n",
    "plt.show()"
   ]
  },
  {
   "cell_type": "markdown",
   "metadata": {},
   "source": [
    "## Ridge"
   ]
  },
  {
   "cell_type": "code",
   "execution_count": 9,
   "metadata": {},
   "outputs": [
    {
     "name": "stdout",
     "output_type": "stream",
     "text": [
      "Mean Square Error : 23.481\n",
      "R Square Score : 0.680\n"
     ]
    }
   ],
   "source": [
    "ridge = linear_model.Ridge(alpha=1.9)\n",
    "\n",
    "Stdn = MinMaxScaler()\n",
    "\n",
    "Stdn.fit(Boston_data)\n",
    "\n",
    "X_train_n, X_test_n = Stdn.transform(X_train), Stdn.transform(X_test)\n",
    "\n",
    "ridge.fit(X_train_n, y_train)\n",
    "\n",
    "y_pred = ridge.predict(X_test_n)\n",
    "\n",
    "print(\"Mean Square Error : %.3f\"%mean_squared_error(y_pred, y_test))\n",
    "print(\"R Square Score : %.3f\"%r2_score(y_test, y_pred))"
   ]
  },
  {
   "cell_type": "code",
   "execution_count": 10,
   "metadata": {},
   "outputs": [
    {
     "name": "stdout",
     "output_type": "stream",
     "text": [
      "[ -5.57041949   1.60616327  -0.69871394   3.25623753  -5.69532102\n",
      "  19.22881943  -0.23539681 -10.59816163   3.69281086  -3.77139474\n",
      "  -8.31468093   4.58202483 -17.45114876]\n"
     ]
    }
   ],
   "source": [
    "print(ridge.coef_)"
   ]
  },
  {
   "cell_type": "code",
   "execution_count": 11,
   "metadata": {},
   "outputs": [],
   "source": [
    "r2 = []\n",
    "alphas = []\n",
    "for alpha in range(0,5000):\n",
    "    ridge = linear_model.Ridge(alpha=alpha/1000)\n",
    "    ridge.fit(X_train_n, y_train)\n",
    "    y_pred = ridge.predict(X_test_n)\n",
    "    alphas.append(alpha/1000)\n",
    "    r2.append(r2_score(y_test, y_pred))"
   ]
  },
  {
   "cell_type": "code",
   "execution_count": 12,
   "metadata": {},
   "outputs": [
    {
     "data": {
      "image/png": "[encoded data removed]",
      "text/plain": [
       "<Figure size 432x288 with 1 Axes>"
      ]
     },
     "metadata": {
      "needs_background": "light"
     },
     "output_type": "display_data"
    }
   ],
   "source": [
    "import matplotlib.pyplot as plt\n",
    "plt.plot(alphas, r2)\n",
    "plt.xlabel('alpha')\n",
    "plt.ylabel('R2')\n",
    "plt.title('Ridge model R2 score by alpha')\n",
    "plt.show()"
   ]
  },
  {
   "cell_type": "code",
   "execution_count": null,
   "metadata": {},
   "outputs": [],
   "source": []
  }
 ],
 "metadata": {
  "kernelspec": {
   "display_name": "Python 3",
   "language": "python",
   "name": "python3"
  },
  "language_info": {
   "codemirror_mode": {
    "name": "ipython",
    "version": 3
   },
   "file_extension": ".py",
   "mimetype": "text/x-python",
   "name": "python",
   "nbconvert_exporter": "python",
   "pygments_lexer": "ipython3",
   "version": "3.6.8"
  }
 },
 "nbformat": 4,
 "nbformat_minor": 2
}
