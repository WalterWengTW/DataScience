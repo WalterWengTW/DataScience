{
 "cells": [
  {
   "cell_type": "markdown",
   "metadata": {},
   "source": [
    "### 作業\n",
    "目前已經學過許多的模型，相信大家對整體流程應該比較掌握了，這次作業請改用**手寫辨識資料集**，步驟流程都是一樣的，請試著自己撰寫程式碼來完成所有步驟"
   ]
  },
  {
   "cell_type": "code",
   "execution_count": 45,
   "metadata": {},
   "outputs": [],
   "source": [
    "from sklearn import datasets, metrics\n",
    "from sklearn.ensemble import GradientBoostingClassifier, RandomForestClassifier\n",
    "from sklearn.preprocessing import MinMaxScaler\n",
    "from sklearn.model_selection import train_test_split\n",
    "\n",
    "digits = datasets.load_digits()"
   ]
  },
  {
   "cell_type": "code",
   "execution_count": 43,
   "metadata": {},
   "outputs": [
    {
     "name": "stdout",
     "output_type": "stream",
     "text": [
      "Accuracy : 0.97222\n",
      "F1 Score : 0.97183\n"
     ]
    }
   ],
   "source": [
    "x_train, x_test, y_train, y_test = train_test_split(digits.data, digits.target, test_size=0.2, random_state=42)\n",
    "\n",
    "normalizer = MinMaxScaler()\n",
    "\n",
    "normalizer.fit(digits.data)\n",
    "\n",
    "x_train_n, x_test_n = normalizer.transform(x_train), normalizer.transform(x_test)\n",
    "\n",
    "GBDT = GradientBoostingClassifier(n_estimators=140, learning_rate=0.1, loss='deviance')\n",
    "\n",
    "GBDT.fit(x_train_n, y_train)\n",
    "\n",
    "y_pred = GBDT.predict(x_test_n)\n",
    "\n",
    "accuracy = metrics.accuracy_score(y_pred, y_test)\n",
    "f1score = metrics.f1_score(y_pred, y_test, average='macro')\n",
    "\n",
    "print(\"Accuracy : %.5f\"%accuracy)\n",
    "print(\"F1 Score : %.5f\"%f1score)"
   ]
  },
  {
   "cell_type": "code",
   "execution_count": 66,
   "metadata": {},
   "outputs": [
    {
     "name": "stdout",
     "output_type": "stream",
     "text": [
      "Accuracy : 0.97778\n",
      "F1 Score : 0.97868\n"
     ]
    }
   ],
   "source": [
    "RFDT = RandomForestClassifier(n_estimators=500, criterion='entropy', max_depth=10, random_state=42)\n",
    "\n",
    "RFDT.fit(x_train_n, y_train)\n",
    "\n",
    "y_pred = RFDT.predict(x_test_n)\n",
    "\n",
    "accuracy = metrics.accuracy_score(y_pred, y_test)\n",
    "f1score = metrics.f1_score(y_pred, y_test, average='macro')\n",
    "\n",
    "print(\"Accuracy : %.5f\"%accuracy)\n",
    "print(\"F1 Score : %.5f\"%f1score)"
   ]
  },
  {
   "cell_type": "code",
   "execution_count": null,
   "metadata": {},
   "outputs": [],
   "source": []
  },
  {
   "cell_type": "code",
   "execution_count": null,
   "metadata": {},
   "outputs": [],
   "source": []
  }
 ],
 "metadata": {
  "kernelspec": {
   "display_name": "Python 3",
   "language": "python",
   "name": "python3"
  },
  "language_info": {
   "codemirror_mode": {
    "name": "ipython",
    "version": 3
   },
   "file_extension": ".py",
   "mimetype": "text/x-python",
   "name": "python",
   "nbconvert_exporter": "python",
   "pygments_lexer": "ipython3",
   "version": "3.6.8"
  }
 },
 "nbformat": 4,
 "nbformat_minor": 2
}
