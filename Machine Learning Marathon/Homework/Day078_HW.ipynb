{
 "cells": [
  {
   "cell_type": "markdown",
   "metadata": {},
   "source": [
    "## Work\n",
    "1. 請嘗試將 preproc_x 替換成以每筆資料的 min/max 進行標準化至 -1 ~ 1 間，再進行訓練\n",
    "2. 請嘗試將 mlp 疊更深 (e.g 5~10 層)，進行訓練後觀察 learning curve 的走勢\n",
    "3. (optional) 請改用 GPU 進行訓練 (如果你有 GPU 的話)，比較使用 CPU 與 GPU 的訓練速度"
   ]
  },
  {
   "cell_type": "code",
   "execution_count": 1,
   "metadata": {},
   "outputs": [
    {
     "name": "stdout",
     "output_type": "stream",
     "text": [
      "Fri Jul 12 13:03:48 2019       \n",
      "+-----------------------------------------------------------------------------+\n",
      "| NVIDIA-SMI 422.02       Driver Version: 422.02       CUDA Version: 10.0     |\n",
      "|-------------------------------+----------------------+----------------------+\n",
      "| GPU  Name            TCC/WDDM | Bus-Id        Disp.A | Volatile Uncorr. ECC |\n",
      "| Fan  Temp  Perf  Pwr:Usage/Cap|         Memory-Usage | GPU-Util  Compute M. |\n",
      "|===============================+======================+======================|\n",
      "|   0  GeForce GTX 1050   WDDM  | 00000000:01:00.0 Off |                  N/A |\n",
      "| N/A   59C    P8    N/A /  N/A |     77MiB /  4096MiB |      0%      Default |\n",
      "+-------------------------------+----------------------+----------------------+\n",
      "                                                                               \n",
      "+-----------------------------------------------------------------------------+\n",
      "| Processes:                                                       GPU Memory |\n",
      "|  GPU       PID   Type   Process name                             Usage      |\n",
      "|=============================================================================|\n",
      "|  No running processes found                                                 |\n",
      "+-----------------------------------------------------------------------------+\n"
     ]
    }
   ],
   "source": [
    "## \n",
    "\"\"\"\n",
    "Your code here (optional)\n",
    "確認硬體資源\n",
    "\"\"\"\n",
    "!C:\\\"Program Files\"\\\"NVIDIA Corporation\"\\NVSMI\\nvidia-smi.exe"
   ]
  },
  {
   "cell_type": "code",
   "execution_count": 2,
   "metadata": {},
   "outputs": [
    {
     "name": "stderr",
     "output_type": "stream",
     "text": [
      "Using TensorFlow backend.\n"
     ]
    }
   ],
   "source": [
    "import os\n",
    "import keras\n",
    "\n",
    "# 請嘗試設定 GPU：os.environ\n",
    "os.environ[\"CUDA_VISIBLE_DEVICES\"] = \"\""
   ]
  },
  {
   "cell_type": "code",
   "execution_count": 3,
   "metadata": {},
   "outputs": [],
   "source": [
    "train, test = keras.datasets.cifar10.load_data()"
   ]
  },
  {
   "cell_type": "code",
   "execution_count": 4,
   "metadata": {},
   "outputs": [],
   "source": [
    "## 資料前處理\n",
    "\"\"\"\n",
    "Your code here\n",
    "\"\"\"\n",
    "def preproc_x(x, flatten=False):\n",
    "    x = ((x / 255.)-0.5)*2\n",
    "    if flatten:\n",
    "        x = x.reshape((len(x), -1))\n",
    "    return x\n",
    "\n",
    "def preproc_y(y, num_classes=10):\n",
    "    if y.shape[-1] == 1:\n",
    "        y = keras.utils.to_categorical(y, num_classes)\n",
    "    return y    "
   ]
  },
  {
   "cell_type": "code",
   "execution_count": 5,
   "metadata": {},
   "outputs": [],
   "source": [
    "x_train, y_train = train\n",
    "x_test, y_test = test\n",
    "\n",
    "# Preproc the inputs\n",
    "x_train = preproc_x(x_train, True)\n",
    "x_test = preproc_x(x_test, True)\n",
    "\n",
    "# Preprc the outputs\n",
    "y_train = preproc_y(y_train)\n",
    "y_test = preproc_y(y_test)"
   ]
  },
  {
   "cell_type": "code",
   "execution_count": 6,
   "metadata": {},
   "outputs": [
    {
     "name": "stdout",
     "output_type": "stream",
     "text": [
      "_________________________________________________________________\n",
      "Layer (type)                 Output Shape              Param #   \n",
      "=================================================================\n",
      "input_1 (InputLayer)         (None, 3072)              0         \n",
      "_________________________________________________________________\n",
      "FC0 (Dense)                  (None, 512)               1573376   \n",
      "_________________________________________________________________\n",
      "dropout_1 (Dropout)          (None, 512)               0         \n",
      "_________________________________________________________________\n",
      "FC1 (Dense)                  (None, 512)               262656    \n",
      "_________________________________________________________________\n",
      "dropout_2 (Dropout)          (None, 512)               0         \n",
      "_________________________________________________________________\n",
      "FC2 (Dense)                  (None, 256)               131328    \n",
      "_________________________________________________________________\n",
      "dropout_3 (Dropout)          (None, 256)               0         \n",
      "_________________________________________________________________\n",
      "FC3 (Dense)                  (None, 256)               65792     \n",
      "_________________________________________________________________\n",
      "dropout_4 (Dropout)          (None, 256)               0         \n",
      "_________________________________________________________________\n",
      "FC4 (Dense)                  (None, 256)               65792     \n",
      "_________________________________________________________________\n",
      "dropout_5 (Dropout)          (None, 256)               0         \n",
      "_________________________________________________________________\n",
      "FC5 (Dense)                  (None, 128)               32896     \n",
      "_________________________________________________________________\n",
      "dropout_6 (Dropout)          (None, 128)               0         \n",
      "_________________________________________________________________\n",
      "FC6 (Dense)                  (None, 128)               16512     \n",
      "_________________________________________________________________\n",
      "dropout_7 (Dropout)          (None, 128)               0         \n",
      "_________________________________________________________________\n",
      "dense_1 (Dense)              (None, 10)                1290      \n",
      "=================================================================\n",
      "Total params: 2,149,642\n",
      "Trainable params: 2,149,642\n",
      "Non-trainable params: 0\n",
      "_________________________________________________________________\n"
     ]
    }
   ],
   "source": [
    "\"\"\"Code Here\n",
    "建立你的神經網路\n",
    "\"\"\"\n",
    "def build_mlp(input_shape, out_units=10, num_neurons=[512, 512, 256, 256, 256, 128, 128]):\n",
    "    input_layer = keras.layers.Input(input_shape)\n",
    "    for i, n_units in enumerate(num_neurons):\n",
    "        if i==0:\n",
    "            x = keras.layers.Dense(units=n_units, name=\"FC\"+str(i), activation='relu')(input_layer)\n",
    "            x = keras.layers.Dropout(0.2)(x)\n",
    "        else:\n",
    "            x = keras.layers.Dense(units=n_units, name=\"FC\"+str(i), activation='relu')(x)\n",
    "            x = keras.layers.Dropout(0.2)(x)\n",
    "    output_layer = keras.layers.Dense(units=10, activation='softmax')(x)\n",
    "\n",
    "    model = keras.models.Model(inputs=[input_layer], outputs=[output_layer])\n",
    "    \n",
    "    return model\n",
    "\n",
    "input_shape = [x_train.shape[-1]]\n",
    "model = build_mlp(input_shape)\n",
    "model.summary()"
   ]
  },
  {
   "cell_type": "code",
   "execution_count": 7,
   "metadata": {},
   "outputs": [],
   "source": [
    "## 超參數設定\n",
    "LEARNING_RATE = 0.001\n",
    "EPOCHS = 100\n",
    "BATCH_SIZE = 256"
   ]
  },
  {
   "cell_type": "code",
   "execution_count": 8,
   "metadata": {},
   "outputs": [],
   "source": [
    "optimizer = keras.optimizers.Adam(lr=LEARNING_RATE)\n",
    "model.compile(loss=\"categorical_crossentropy\", metrics=[\"accuracy\"], optimizer=optimizer)"
   ]
  },
  {
   "cell_type": "code",
   "execution_count": 9,
   "metadata": {
    "scrolled": true
   },
   "outputs": [
    {
     "name": "stdout",
     "output_type": "stream",
     "text": [
      "Train on 50000 samples, validate on 10000 samples\n",
      "Epoch 1/100\n",
      "50000/50000 [==============================] - 6s 116us/step - loss: 1.9538 - acc: 0.2845 - val_loss: 1.6950 - val_acc: 0.3878\n",
      "Epoch 2/100\n",
      "50000/50000 [==============================] - 3s 65us/step - loss: 1.7238 - acc: 0.3849 - val_loss: 1.5861 - val_acc: 0.4454\n",
      "Epoch 3/100\n",
      "50000/50000 [==============================] - 3s 65us/step - loss: 1.6206 - acc: 0.4272 - val_loss: 1.5211 - val_acc: 0.4564\n",
      "Epoch 4/100\n",
      "50000/50000 [==============================] - 4s 79us/step - loss: 1.5542 - acc: 0.4540 - val_loss: 1.4643 - val_acc: 0.4845\n",
      "Epoch 5/100\n",
      "50000/50000 [==============================] - 3s 67us/step - loss: 1.4998 - acc: 0.4731 - val_loss: 1.4325 - val_acc: 0.4901\n",
      "Epoch 6/100\n",
      "50000/50000 [==============================] - 3s 67us/step - loss: 1.4549 - acc: 0.4932 - val_loss: 1.4090 - val_acc: 0.5014\n",
      "Epoch 7/100\n",
      "50000/50000 [==============================] - 3s 70us/step - loss: 1.4133 - acc: 0.5096 - val_loss: 1.4065 - val_acc: 0.5096\n",
      "Epoch 8/100\n",
      "50000/50000 [==============================] - 3s 66us/step - loss: 1.3784 - acc: 0.5182 - val_loss: 1.3826 - val_acc: 0.5193\n",
      "Epoch 9/100\n",
      "50000/50000 [==============================] - 3s 65us/step - loss: 1.3502 - acc: 0.5294 - val_loss: 1.3625 - val_acc: 0.5282A: 0s - loss: 1.34\n",
      "Epoch 10/100\n",
      "50000/50000 [==============================] - 3s 68us/step - loss: 1.3179 - acc: 0.5423 - val_loss: 1.3656 - val_acc: 0.5275\n",
      "Epoch 11/100\n",
      "50000/50000 [==============================] - 3s 66us/step - loss: 1.2843 - acc: 0.5532 - val_loss: 1.3477 - val_acc: 0.5314\n",
      "Epoch 12/100\n",
      "50000/50000 [==============================] - 3s 69us/step - loss: 1.2597 - acc: 0.5622 - val_loss: 1.3300 - val_acc: 0.5368\n",
      "Epoch 13/100\n",
      "50000/50000 [==============================] - 3s 68us/step - loss: 1.2309 - acc: 0.5709 - val_loss: 1.3456 - val_acc: 0.5358\n",
      "Epoch 14/100\n",
      "50000/50000 [==============================] - 3s 68us/step - loss: 1.2083 - acc: 0.5812 - val_loss: 1.3509 - val_acc: 0.5378\n",
      "Epoch 15/100\n",
      "50000/50000 [==============================] - 4s 85us/step - loss: 1.1890 - acc: 0.5863 - val_loss: 1.3316 - val_acc: 0.5392\n",
      "Epoch 16/100\n",
      "50000/50000 [==============================] - 3s 69us/step - loss: 1.1645 - acc: 0.5970 - val_loss: 1.3291 - val_acc: 0.5413\n",
      "Epoch 17/100\n",
      "50000/50000 [==============================] - 4s 74us/step - loss: 1.1404 - acc: 0.6034 - val_loss: 1.3354 - val_acc: 0.5408\n",
      "Epoch 18/100\n",
      "50000/50000 [==============================] - 3s 67us/step - loss: 1.1155 - acc: 0.6142 - val_loss: 1.3161 - val_acc: 0.5484\n",
      "Epoch 19/100\n",
      "50000/50000 [==============================] - 3s 68us/step - loss: 1.0979 - acc: 0.6209 - val_loss: 1.3028 - val_acc: 0.5502\n",
      "Epoch 20/100\n",
      "50000/50000 [==============================] - 3s 70us/step - loss: 1.0771 - acc: 0.6267 - val_loss: 1.3296 - val_acc: 0.5451\n",
      "Epoch 21/100\n",
      "50000/50000 [==============================] - 4s 70us/step - loss: 1.0617 - acc: 0.6342 - val_loss: 1.3468 - val_acc: 0.5422\n",
      "Epoch 22/100\n",
      "50000/50000 [==============================] - 3s 65us/step - loss: 1.0434 - acc: 0.6408 - val_loss: 1.3122 - val_acc: 0.5534\n",
      "Epoch 23/100\n",
      "50000/50000 [==============================] - 3s 68us/step - loss: 1.0223 - acc: 0.6467 - val_loss: 1.3306 - val_acc: 0.5520\n",
      "Epoch 24/100\n",
      "50000/50000 [==============================] - 3s 68us/step - loss: 1.0099 - acc: 0.6519 - val_loss: 1.3152 - val_acc: 0.5554\n",
      "Epoch 25/100\n",
      "50000/50000 [==============================] - 3s 69us/step - loss: 0.9914 - acc: 0.6595 - val_loss: 1.3165 - val_acc: 0.5556\n",
      "Epoch 26/100\n",
      "50000/50000 [==============================] - 3s 68us/step - loss: 0.9804 - acc: 0.6628 - val_loss: 1.3295 - val_acc: 0.5612\n",
      "Epoch 27/100\n",
      "50000/50000 [==============================] - 3s 67us/step - loss: 0.9574 - acc: 0.6702 - val_loss: 1.3612 - val_acc: 0.5497\n",
      "Epoch 28/100\n",
      "50000/50000 [==============================] - 3s 67us/step - loss: 0.9531 - acc: 0.6714 - val_loss: 1.3476 - val_acc: 0.5553\n",
      "Epoch 29/100\n",
      "50000/50000 [==============================] - 4s 72us/step - loss: 0.9263 - acc: 0.6822 - val_loss: 1.3683 - val_acc: 0.5516\n",
      "Epoch 30/100\n",
      "50000/50000 [==============================] - 4s 70us/step - loss: 0.9152 - acc: 0.6837 - val_loss: 1.3374 - val_acc: 0.5609\n",
      "Epoch 31/100\n",
      "50000/50000 [==============================] - 3s 67us/step - loss: 0.9038 - acc: 0.6889 - val_loss: 1.3465 - val_acc: 0.5588\n",
      "Epoch 32/100\n",
      "50000/50000 [==============================] - 3s 69us/step - loss: 0.8887 - acc: 0.6944 - val_loss: 1.3983 - val_acc: 0.5557\n",
      "Epoch 33/100\n",
      "50000/50000 [==============================] - 3s 67us/step - loss: 0.8682 - acc: 0.7012 - val_loss: 1.3732 - val_acc: 0.5634\n",
      "Epoch 34/100\n",
      "50000/50000 [==============================] - 3s 66us/step - loss: 0.8674 - acc: 0.7019 - val_loss: 1.3699 - val_acc: 0.5588\n",
      "Epoch 35/100\n",
      "50000/50000 [==============================] - 3s 67us/step - loss: 0.8540 - acc: 0.7054 - val_loss: 1.3711 - val_acc: 0.5568\n",
      "Epoch 36/100\n",
      "50000/50000 [==============================] - 4s 70us/step - loss: 0.8441 - acc: 0.7114 - val_loss: 1.3886 - val_acc: 0.5630\n",
      "Epoch 37/100\n",
      "50000/50000 [==============================] - 3s 66us/step - loss: 0.8325 - acc: 0.7173 - val_loss: 1.3923 - val_acc: 0.5622\n",
      "Epoch 38/100\n",
      "50000/50000 [==============================] - 3s 67us/step - loss: 0.8290 - acc: 0.7172 - val_loss: 1.3865 - val_acc: 0.5554\n",
      "Epoch 39/100\n",
      "50000/50000 [==============================] - 3s 68us/step - loss: 0.8131 - acc: 0.7220 - val_loss: 1.3961 - val_acc: 0.5629\n",
      "Epoch 40/100\n",
      "50000/50000 [==============================] - 3s 67us/step - loss: 0.8049 - acc: 0.7267 - val_loss: 1.3839 - val_acc: 0.5613\n",
      "Epoch 41/100\n",
      "50000/50000 [==============================] - 3s 69us/step - loss: 0.7957 - acc: 0.7282 - val_loss: 1.3924 - val_acc: 0.5629\n",
      "Epoch 42/100\n",
      "50000/50000 [==============================] - 4s 75us/step - loss: 0.7815 - acc: 0.7337 - val_loss: 1.4147 - val_acc: 0.5594\n",
      "Epoch 43/100\n",
      "50000/50000 [==============================] - 3s 68us/step - loss: 0.7731 - acc: 0.7345 - val_loss: 1.4056 - val_acc: 0.5603\n",
      "Epoch 44/100\n",
      "50000/50000 [==============================] - 3s 66us/step - loss: 0.7557 - acc: 0.7410 - val_loss: 1.3861 - val_acc: 0.5642\n",
      "Epoch 45/100\n",
      "50000/50000 [==============================] - 3s 66us/step - loss: 0.7541 - acc: 0.7426 - val_loss: 1.4268 - val_acc: 0.5668\n",
      "Epoch 46/100\n",
      "50000/50000 [==============================] - 3s 65us/step - loss: 0.7481 - acc: 0.7467 - val_loss: 1.4559 - val_acc: 0.5585\n",
      "Epoch 47/100\n",
      "50000/50000 [==============================] - 4s 78us/step - loss: 0.7348 - acc: 0.7479 - val_loss: 1.4146 - val_acc: 0.5591\n",
      "Epoch 48/100\n",
      "50000/50000 [==============================] - 4s 72us/step - loss: 0.7299 - acc: 0.7505 - val_loss: 1.4255 - val_acc: 0.5568\n",
      "Epoch 49/100\n",
      "50000/50000 [==============================] - 3s 68us/step - loss: 0.7217 - acc: 0.7543 - val_loss: 1.4397 - val_acc: 0.5582\n",
      "Epoch 50/100\n",
      "50000/50000 [==============================] - 3s 66us/step - loss: 0.7057 - acc: 0.7607 - val_loss: 1.4287 - val_acc: 0.5713\n",
      "Epoch 51/100\n",
      "50000/50000 [==============================] - 4s 70us/step - loss: 0.6994 - acc: 0.7635 - val_loss: 1.4307 - val_acc: 0.5586\n",
      "Epoch 52/100\n",
      "50000/50000 [==============================] - 4s 72us/step - loss: 0.6895 - acc: 0.7696 - val_loss: 1.4507 - val_acc: 0.5667\n",
      "Epoch 53/100\n",
      "50000/50000 [==============================] - 4s 76us/step - loss: 0.6954 - acc: 0.7655 - val_loss: 1.4588 - val_acc: 0.5650\n",
      "Epoch 54/100\n",
      "50000/50000 [==============================] - 4s 70us/step - loss: 0.6905 - acc: 0.7677 - val_loss: 1.4319 - val_acc: 0.5720\n",
      "Epoch 55/100\n",
      "50000/50000 [==============================] - 3s 66us/step - loss: 0.6737 - acc: 0.7742 - val_loss: 1.4567 - val_acc: 0.5663\n",
      "Epoch 56/100\n",
      "50000/50000 [==============================] - 3s 66us/step - loss: 0.6779 - acc: 0.7717 - val_loss: 1.4908 - val_acc: 0.5559\n",
      "Epoch 57/100\n",
      "50000/50000 [==============================] - 3s 65us/step - loss: 0.6711 - acc: 0.7764 - val_loss: 1.4627 - val_acc: 0.5646\n",
      "Epoch 58/100\n",
      "50000/50000 [==============================] - 3s 67us/step - loss: 0.6667 - acc: 0.7755 - val_loss: 1.4955 - val_acc: 0.5617\n",
      "Epoch 59/100\n"
     ]
    },
    {
     "name": "stdout",
     "output_type": "stream",
     "text": [
      "50000/50000 [==============================] - 3s 67us/step - loss: 0.6560 - acc: 0.7805 - val_loss: 1.4600 - val_acc: 0.5673\n",
      "Epoch 60/100\n",
      "50000/50000 [==============================] - 3s 66us/step - loss: 0.6447 - acc: 0.7845 - val_loss: 1.4567 - val_acc: 0.5710\n",
      "Epoch 61/100\n",
      "50000/50000 [==============================] - 3s 67us/step - loss: 0.6438 - acc: 0.7855 - val_loss: 1.4729 - val_acc: 0.5679\n",
      "Epoch 62/100\n",
      "50000/50000 [==============================] - 3s 68us/step - loss: 0.6298 - acc: 0.7891 - val_loss: 1.4965 - val_acc: 0.5651\n",
      "Epoch 63/100\n",
      "50000/50000 [==============================] - 3s 68us/step - loss: 0.6302 - acc: 0.7897 - val_loss: 1.4792 - val_acc: 0.5591\n",
      "Epoch 64/100\n",
      "50000/50000 [==============================] - 3s 65us/step - loss: 0.6190 - acc: 0.7934 - val_loss: 1.4981 - val_acc: 0.5674cc: 0.79\n",
      "Epoch 65/100\n",
      "50000/50000 [==============================] - 3s 66us/step - loss: 0.6215 - acc: 0.7928 - val_loss: 1.4834 - val_acc: 0.5620\n",
      "Epoch 66/100\n",
      "50000/50000 [==============================] - 3s 69us/step - loss: 0.6121 - acc: 0.7953 - val_loss: 1.5216 - val_acc: 0.5662\n",
      "Epoch 67/100\n",
      "50000/50000 [==============================] - 3s 66us/step - loss: 0.6156 - acc: 0.7925 - val_loss: 1.5455 - val_acc: 0.5633\n",
      "Epoch 68/100\n",
      "50000/50000 [==============================] - 3s 70us/step - loss: 0.5978 - acc: 0.8007 - val_loss: 1.5555 - val_acc: 0.5626\n",
      "Epoch 69/100\n",
      "50000/50000 [==============================] - 3s 68us/step - loss: 0.6032 - acc: 0.8015 - val_loss: 1.5415 - val_acc: 0.5591\n",
      "Epoch 70/100\n",
      "50000/50000 [==============================] - 3s 67us/step - loss: 0.5885 - acc: 0.8042 - val_loss: 1.5864 - val_acc: 0.5627\n",
      "Epoch 71/100\n",
      "50000/50000 [==============================] - 3s 67us/step - loss: 0.5893 - acc: 0.8041 - val_loss: 1.5316 - val_acc: 0.5536\n",
      "Epoch 72/100\n",
      "50000/50000 [==============================] - 3s 67us/step - loss: 0.5828 - acc: 0.8032 - val_loss: 1.5644 - val_acc: 0.5617\n",
      "Epoch 73/100\n",
      "50000/50000 [==============================] - 4s 70us/step - loss: 0.5816 - acc: 0.8051 - val_loss: 1.5303 - val_acc: 0.5672\n",
      "Epoch 74/100\n",
      "50000/50000 [==============================] - 3s 66us/step - loss: 0.5744 - acc: 0.8107 - val_loss: 1.5259 - val_acc: 0.5628\n",
      "Epoch 75/100\n",
      "50000/50000 [==============================] - 3s 67us/step - loss: 0.5777 - acc: 0.8085 - val_loss: 1.5172 - val_acc: 0.5624\n",
      "Epoch 76/100\n",
      "50000/50000 [==============================] - 3s 67us/step - loss: 0.5754 - acc: 0.8087 - val_loss: 1.5265 - val_acc: 0.5635\n",
      "Epoch 77/100\n",
      "50000/50000 [==============================] - 3s 67us/step - loss: 0.5722 - acc: 0.8102 - val_loss: 1.5461 - val_acc: 0.5617\n",
      "Epoch 78/100\n",
      "50000/50000 [==============================] - 3s 67us/step - loss: 0.5697 - acc: 0.8123 - val_loss: 1.5529 - val_acc: 0.5681\n",
      "Epoch 79/100\n",
      "50000/50000 [==============================] - 4s 70us/step - loss: 0.5569 - acc: 0.8149 - val_loss: 1.5226 - val_acc: 0.5680\n",
      "Epoch 80/100\n",
      "50000/50000 [==============================] - 4s 74us/step - loss: 0.5497 - acc: 0.8197 - val_loss: 1.6163 - val_acc: 0.5647\n",
      "Epoch 81/100\n",
      "50000/50000 [==============================] - 4s 71us/step - loss: 0.5419 - acc: 0.8217 - val_loss: 1.5722 - val_acc: 0.5613\n",
      "Epoch 82/100\n",
      "50000/50000 [==============================] - 3s 67us/step - loss: 0.5438 - acc: 0.8199 - val_loss: 1.5688 - val_acc: 0.5601\n",
      "Epoch 83/100\n",
      "50000/50000 [==============================] - 3s 67us/step - loss: 0.5569 - acc: 0.8159 - val_loss: 1.5983 - val_acc: 0.5634\n",
      "Epoch 84/100\n",
      "50000/50000 [==============================] - 4s 71us/step - loss: 0.5474 - acc: 0.8200 - val_loss: 1.5492 - val_acc: 0.5601\n",
      "Epoch 85/100\n",
      "50000/50000 [==============================] - 3s 67us/step - loss: 0.5321 - acc: 0.8253 - val_loss: 1.5806 - val_acc: 0.5631\n",
      "Epoch 86/100\n",
      "50000/50000 [==============================] - 4s 75us/step - loss: 0.5312 - acc: 0.8244 - val_loss: 1.5397 - val_acc: 0.5639\n",
      "Epoch 87/100\n",
      "50000/50000 [==============================] - 4s 74us/step - loss: 0.5315 - acc: 0.8249 - val_loss: 1.6058 - val_acc: 0.5622\n",
      "Epoch 88/100\n",
      "50000/50000 [==============================] - 4s 76us/step - loss: 0.5184 - acc: 0.8308 - val_loss: 1.6253 - val_acc: 0.5676\n",
      "Epoch 89/100\n",
      "50000/50000 [==============================] - 4s 75us/step - loss: 0.5202 - acc: 0.8294 - val_loss: 1.5618 - val_acc: 0.5677\n",
      "Epoch 90/100\n",
      "50000/50000 [==============================] - 3s 67us/step - loss: 0.5202 - acc: 0.8296 - val_loss: 1.5664 - val_acc: 0.56310.51\n",
      "Epoch 91/100\n",
      "50000/50000 [==============================] - 4s 72us/step - loss: 0.5102 - acc: 0.8332 - val_loss: 1.5581 - val_acc: 0.5660\n",
      "Epoch 92/100\n",
      "50000/50000 [==============================] - 3s 70us/step - loss: 0.5105 - acc: 0.8323 - val_loss: 1.5956 - val_acc: 0.5665\n",
      "Epoch 93/100\n",
      "50000/50000 [==============================] - 4s 76us/step - loss: 0.4967 - acc: 0.8374 - val_loss: 1.6131 - val_acc: 0.5628\n",
      "Epoch 94/100\n",
      "50000/50000 [==============================] - 4s 74us/step - loss: 0.5050 - acc: 0.8357 - val_loss: 1.6089 - val_acc: 0.5669\n",
      "Epoch 95/100\n",
      "50000/50000 [==============================] - 3s 67us/step - loss: 0.5094 - acc: 0.8327 - val_loss: 1.5520 - val_acc: 0.5610\n",
      "Epoch 96/100\n",
      "50000/50000 [==============================] - 3s 66us/step - loss: 0.5029 - acc: 0.8335 - val_loss: 1.5894 - val_acc: 0.5645\n",
      "Epoch 97/100\n",
      "50000/50000 [==============================] - 3s 70us/step - loss: 0.5028 - acc: 0.8343 - val_loss: 1.6314 - val_acc: 0.5653\n",
      "Epoch 98/100\n",
      "50000/50000 [==============================] - 3s 66us/step - loss: 0.4932 - acc: 0.8391 - val_loss: 1.6318 - val_acc: 0.5623\n",
      "Epoch 99/100\n",
      "50000/50000 [==============================] - 4s 74us/step - loss: 0.4920 - acc: 0.8383 - val_loss: 1.6164 - val_acc: 0.5616\n",
      "Epoch 100/100\n",
      "50000/50000 [==============================] - 4s 75us/step - loss: 0.4893 - acc: 0.8387 - val_loss: 1.6754 - val_acc: 0.5572\n",
      "train time : 348 sec\n"
     ]
    }
   ],
   "source": [
    "import time\n",
    "time_start = time.time()\n",
    "model.fit(x_train, y_train, \n",
    "          epochs=EPOCHS, \n",
    "          batch_size=BATCH_SIZE, \n",
    "          validation_data=(x_test, y_test), \n",
    "          shuffle=True)\n",
    "time_end = time.time()\n",
    "\n",
    "print(\"train time : %d sec\"%(time_end-time_start))"
   ]
  },
  {
   "cell_type": "code",
   "execution_count": 11,
   "metadata": {},
   "outputs": [
    {
     "data": {
      "image/png": "[encoded data removed]",
      "text/plain": [
       "<Figure size 432x288 with 1 Axes>"
      ]
     },
     "metadata": {
      "needs_background": "light"
     },
     "output_type": "display_data"
    },
    {
     "data": {
      "image/png": "[encoded data removed]",
      "text/plain": [
       "<Figure size 432x288 with 1 Axes>"
      ]
     },
     "metadata": {
      "needs_background": "light"
     },
     "output_type": "display_data"
    }
   ],
   "source": [
    "import matplotlib.pyplot as plt\n",
    "\n",
    "\n",
    "train_loss = model.history.history[\"loss\"]\n",
    "valid_loss = model.history.history[\"val_loss\"]\n",
    "\n",
    "train_acc = model.history.history[\"acc\"]\n",
    "valid_acc = model.history.history[\"val_acc\"]\n",
    "\n",
    "plt.plot(range(len(train_loss)), train_loss, label=\"train loss\")\n",
    "plt.plot(range(len(valid_loss)), valid_loss, label=\"valid loss\")\n",
    "plt.legend()\n",
    "plt.title(\"Loss\")\n",
    "plt.show()\n",
    "\n",
    "plt.plot(range(len(train_acc)), train_acc, label=\"train accuracy\")\n",
    "plt.plot(range(len(valid_acc)), valid_acc, label=\"valid accuracy\")\n",
    "plt.legend()\n",
    "plt.title(\"Accuracy\")\n",
    "plt.show()"
   ]
  },
  {
   "cell_type": "markdown",
   "metadata": {},
   "source": [
    "# Training by GPU"
   ]
  },
  {
   "cell_type": "code",
   "execution_count": null,
   "metadata": {},
   "outputs": [],
   "source": []
  }
 ],
 "metadata": {
  "kernelspec": {
   "display_name": "Python 3",
   "language": "python",
   "name": "python3"
  },
  "language_info": {
   "codemirror_mode": {
    "name": "ipython",
    "version": 3
   },
   "file_extension": ".py",
   "mimetype": "text/x-python",
   "name": "python",
   "nbconvert_exporter": "python",
   "pygments_lexer": "ipython3",
   "version": "3.6.8"
  }
 },
 "nbformat": 4,
 "nbformat_minor": 2
}
