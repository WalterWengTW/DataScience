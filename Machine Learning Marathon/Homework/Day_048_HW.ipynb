{
 "cells": [
  {
   "cell_type": "code",
   "execution_count": 22,
   "metadata": {},
   "outputs": [],
   "source": [
    "import pandas as pd\n",
    "from sklearn.ensemble import RandomForestClassifier, GradientBoostingClassifier\n",
    "from sklearn.model_selection import train_test_split\n",
    "import matplotlib.pyplot as plt\n",
    "from sklearn.preprocessing import StandardScaler\n",
    "from sklearn import metrics"
   ]
  },
  {
   "cell_type": "code",
   "execution_count": 23,
   "metadata": {},
   "outputs": [],
   "source": [
    "train_data = pd.read_csv('train.csv', header=None)\n",
    "train_target = pd.read_csv('trainLabels.csv', header=None)\n",
    "test_data = pd.read_csv('test.csv', header=None)"
   ]
  },
  {
   "cell_type": "code",
   "execution_count": 24,
   "metadata": {},
   "outputs": [
    {
     "data": {
      "text/html": [
       "<div>\n",
       "<style scoped>\n",
       "    .dataframe tbody tr th:only-of-type {\n",
       "        vertical-align: middle;\n",
       "    }\n",
       "\n",
       "    .dataframe tbody tr th {\n",
       "        vertical-align: top;\n",
       "    }\n",
       "\n",
       "    .dataframe thead th {\n",
       "        text-align: right;\n",
       "    }\n",
       "</style>\n",
       "<table border=\"1\" class=\"dataframe\">\n",
       "  <thead>\n",
       "    <tr style=\"text-align: right;\">\n",
       "      <th></th>\n",
       "      <th>0</th>\n",
       "      <th>1</th>\n",
       "      <th>2</th>\n",
       "      <th>3</th>\n",
       "      <th>4</th>\n",
       "      <th>5</th>\n",
       "      <th>6</th>\n",
       "      <th>7</th>\n",
       "      <th>8</th>\n",
       "      <th>9</th>\n",
       "      <th>...</th>\n",
       "      <th>30</th>\n",
       "      <th>31</th>\n",
       "      <th>32</th>\n",
       "      <th>33</th>\n",
       "      <th>34</th>\n",
       "      <th>35</th>\n",
       "      <th>36</th>\n",
       "      <th>37</th>\n",
       "      <th>38</th>\n",
       "      <th>39</th>\n",
       "    </tr>\n",
       "  </thead>\n",
       "  <tbody>\n",
       "    <tr>\n",
       "      <th>1523</th>\n",
       "      <td>-0.155549</td>\n",
       "      <td>-0.786783</td>\n",
       "      <td>-0.182168</td>\n",
       "      <td>0.928171</td>\n",
       "      <td>4.090237</td>\n",
       "      <td>0.242266</td>\n",
       "      <td>-0.551016</td>\n",
       "      <td>0.117287</td>\n",
       "      <td>-0.522129</td>\n",
       "      <td>0.272245</td>\n",
       "      <td>...</td>\n",
       "      <td>-0.146089</td>\n",
       "      <td>1.027439</td>\n",
       "      <td>0.096145</td>\n",
       "      <td>1.225380</td>\n",
       "      <td>-0.916341</td>\n",
       "      <td>-0.581390</td>\n",
       "      <td>0.444949</td>\n",
       "      <td>-0.146211</td>\n",
       "      <td>-1.829881</td>\n",
       "      <td>0.772587</td>\n",
       "    </tr>\n",
       "    <tr>\n",
       "      <th>769</th>\n",
       "      <td>1.288941</td>\n",
       "      <td>-0.853400</td>\n",
       "      <td>1.095039</td>\n",
       "      <td>0.364139</td>\n",
       "      <td>4.364403</td>\n",
       "      <td>-0.189422</td>\n",
       "      <td>-2.569686</td>\n",
       "      <td>-1.826182</td>\n",
       "      <td>0.993502</td>\n",
       "      <td>-1.396518</td>\n",
       "      <td>...</td>\n",
       "      <td>1.769493</td>\n",
       "      <td>-0.307055</td>\n",
       "      <td>-2.505570</td>\n",
       "      <td>-0.651753</td>\n",
       "      <td>1.872727</td>\n",
       "      <td>-0.238793</td>\n",
       "      <td>1.113603</td>\n",
       "      <td>-0.320825</td>\n",
       "      <td>-0.659966</td>\n",
       "      <td>-0.518861</td>\n",
       "    </tr>\n",
       "    <tr>\n",
       "      <th>6498</th>\n",
       "      <td>-0.876430</td>\n",
       "      <td>-0.993123</td>\n",
       "      <td>2.443915</td>\n",
       "      <td>0.585574</td>\n",
       "      <td>1.099476</td>\n",
       "      <td>-1.625915</td>\n",
       "      <td>-2.388544</td>\n",
       "      <td>-3.281754</td>\n",
       "      <td>-0.472187</td>\n",
       "      <td>0.659911</td>\n",
       "      <td>...</td>\n",
       "      <td>1.648129</td>\n",
       "      <td>0.205579</td>\n",
       "      <td>-4.342644</td>\n",
       "      <td>0.690061</td>\n",
       "      <td>-4.153440</td>\n",
       "      <td>-0.432244</td>\n",
       "      <td>2.535401</td>\n",
       "      <td>0.540773</td>\n",
       "      <td>0.891582</td>\n",
       "      <td>3.250207</td>\n",
       "    </tr>\n",
       "    <tr>\n",
       "      <th>7905</th>\n",
       "      <td>-0.535671</td>\n",
       "      <td>0.363412</td>\n",
       "      <td>0.305893</td>\n",
       "      <td>0.180247</td>\n",
       "      <td>-2.766177</td>\n",
       "      <td>-0.861492</td>\n",
       "      <td>0.839366</td>\n",
       "      <td>-0.387147</td>\n",
       "      <td>1.173016</td>\n",
       "      <td>0.356225</td>\n",
       "      <td>...</td>\n",
       "      <td>1.171839</td>\n",
       "      <td>1.081212</td>\n",
       "      <td>3.070393</td>\n",
       "      <td>-0.100313</td>\n",
       "      <td>-3.990281</td>\n",
       "      <td>-1.855064</td>\n",
       "      <td>-2.752206</td>\n",
       "      <td>-1.440904</td>\n",
       "      <td>-3.118397</td>\n",
       "      <td>1.615333</td>\n",
       "    </tr>\n",
       "    <tr>\n",
       "      <th>8104</th>\n",
       "      <td>-1.177986</td>\n",
       "      <td>-0.499443</td>\n",
       "      <td>-1.575433</td>\n",
       "      <td>2.231689</td>\n",
       "      <td>-2.298703</td>\n",
       "      <td>0.607416</td>\n",
       "      <td>1.564450</td>\n",
       "      <td>-0.206556</td>\n",
       "      <td>0.071545</td>\n",
       "      <td>-1.123984</td>\n",
       "      <td>...</td>\n",
       "      <td>0.248056</td>\n",
       "      <td>-0.097995</td>\n",
       "      <td>-0.659126</td>\n",
       "      <td>0.757184</td>\n",
       "      <td>0.908650</td>\n",
       "      <td>-1.538828</td>\n",
       "      <td>0.739797</td>\n",
       "      <td>0.280923</td>\n",
       "      <td>-1.013622</td>\n",
       "      <td>1.817306</td>\n",
       "    </tr>\n",
       "  </tbody>\n",
       "</table>\n",
       "<p>5 rows × 40 columns</p>\n",
       "</div>"
      ],
      "text/plain": [
       "            0         1         2         3         4         5         6   \\\n",
       "1523 -0.155549 -0.786783 -0.182168  0.928171  4.090237  0.242266 -0.551016   \n",
       "769   1.288941 -0.853400  1.095039  0.364139  4.364403 -0.189422 -2.569686   \n",
       "6498 -0.876430 -0.993123  2.443915  0.585574  1.099476 -1.625915 -2.388544   \n",
       "7905 -0.535671  0.363412  0.305893  0.180247 -2.766177 -0.861492  0.839366   \n",
       "8104 -1.177986 -0.499443 -1.575433  2.231689 -2.298703  0.607416  1.564450   \n",
       "\n",
       "            7         8         9   ...        30        31        32  \\\n",
       "1523  0.117287 -0.522129  0.272245  ... -0.146089  1.027439  0.096145   \n",
       "769  -1.826182  0.993502 -1.396518  ...  1.769493 -0.307055 -2.505570   \n",
       "6498 -3.281754 -0.472187  0.659911  ...  1.648129  0.205579 -4.342644   \n",
       "7905 -0.387147  1.173016  0.356225  ...  1.171839  1.081212  3.070393   \n",
       "8104 -0.206556  0.071545 -1.123984  ...  0.248056 -0.097995 -0.659126   \n",
       "\n",
       "            33        34        35        36        37        38        39  \n",
       "1523  1.225380 -0.916341 -0.581390  0.444949 -0.146211 -1.829881  0.772587  \n",
       "769  -0.651753  1.872727 -0.238793  1.113603 -0.320825 -0.659966 -0.518861  \n",
       "6498  0.690061 -4.153440 -0.432244  2.535401  0.540773  0.891582  3.250207  \n",
       "7905 -0.100313 -3.990281 -1.855064 -2.752206 -1.440904 -3.118397  1.615333  \n",
       "8104  0.757184  0.908650 -1.538828  0.739797  0.280923 -1.013622  1.817306  \n",
       "\n",
       "[5 rows x 40 columns]"
      ]
     },
     "execution_count": 24,
     "metadata": {},
     "output_type": "execute_result"
    }
   ],
   "source": [
    "feature_set = train_data.append(test_data, ignore_index = True)\n",
    "feature_set.sample(5)"
   ]
  },
  {
   "cell_type": "code",
   "execution_count": 25,
   "metadata": {},
   "outputs": [
    {
     "data": {
      "text/plain": [
       "array([[<matplotlib.axes._subplots.AxesSubplot object at 0x000001CD5A2F31D0>]],\n",
       "      dtype=object)"
      ]
     },
     "execution_count": 25,
     "metadata": {},
     "output_type": "execute_result"
    },
    {
     "data": {
      "image/png": "[encoded data removed]",
      "text/plain": [
       "<Figure size 432x288 with 1 Axes>"
      ]
     },
     "metadata": {
      "needs_background": "light"
     },
     "output_type": "display_data"
    },
    {
     "data": {
      "image/png": "[encoded data removed]",
      "text/plain": [
       "<Figure size 432x288 with 1 Axes>"
      ]
     },
     "metadata": {
      "needs_background": "light"
     },
     "output_type": "display_data"
    },
    {
     "data": {
      "image/png": "[encoded data removed]",
      "text/plain": [
       "<Figure size 432x288 with 1 Axes>"
      ]
     },
     "metadata": {
      "needs_background": "light"
     },
     "output_type": "display_data"
    }
   ],
   "source": [
    "feature_set.hist(39, bins=20)\n",
    "feature_set.hist(25, bins=20)\n",
    "feature_set.hist(13, bins=20)"
   ]
  },
  {
   "cell_type": "code",
   "execution_count": 67,
   "metadata": {},
   "outputs": [],
   "source": [
    "x_train, x_test, y_train, y_test = train_test_split(train_data, train_target, test_size=0.2, shuffle=True)\n",
    "\n",
    "normalizer = StandardScaler()\n",
    "\n",
    "normalizer.fit(feature_set)\n",
    "\n",
    "x_train_n, x_test_n = normalizer.transform(x_train), normalizer.transform(x_test)\n",
    "\n",
    "test_set =  normalizer.transform(test_data)"
   ]
  },
  {
   "cell_type": "code",
   "execution_count": 46,
   "metadata": {},
   "outputs": [
    {
     "name": "stderr",
     "output_type": "stream",
     "text": [
      "D:\\Anaconda3\\envs\\DNNGPU\\lib\\site-packages\\ipykernel_launcher.py:3: DataConversionWarning: A column-vector y was passed when a 1d array was expected. Please change the shape of y to (n_samples,), for example using ravel().\n",
      "  This is separate from the ipykernel package so we can avoid doing imports until\n"
     ]
    },
    {
     "name": "stdout",
     "output_type": "stream",
     "text": [
      "Accuracy Score : 0.91500\n"
     ]
    }
   ],
   "source": [
    "RFCF = RandomForestClassifier(n_estimators=200, max_depth=10, min_samples_leaf=2, min_samples_split=2, random_state=42)\n",
    "\n",
    "RFCF.fit(x_train_n, y_train)\n",
    "\n",
    "y_pred = RFCF.predict(x_test_n)\n",
    "\n",
    "acc = metrics.accuracy_score(y_pred, y_test)\n",
    "\n",
    "print(\"Accuracy Score : %.5f\"%acc)"
   ]
  },
  {
   "cell_type": "code",
   "execution_count": 66,
   "metadata": {},
   "outputs": [
    {
     "name": "stderr",
     "output_type": "stream",
     "text": [
      "D:\\Anaconda3\\envs\\DNNGPU\\lib\\site-packages\\sklearn\\ensemble\\gradient_boosting.py:1450: DataConversionWarning: A column-vector y was passed when a 1d array was expected. Please change the shape of y to (n_samples, ), for example using ravel().\n",
      "  y = column_or_1d(y, warn=True)\n"
     ]
    },
    {
     "name": "stdout",
     "output_type": "stream",
     "text": [
      "Accuracy Score : 0.90000\n"
     ]
    }
   ],
   "source": [
    "GBCF = GradientBoostingClassifier(n_estimators=500, max_depth=10, min_samples_leaf=3, min_samples_split=2, random_state=42, learning_rate=0.02)\n",
    "\n",
    "GBCF.fit(x_train_n, y_train)\n",
    "\n",
    "y_pred = GBCF.predict(x_test_n)\n",
    "\n",
    "acc = metrics.accuracy_score(y_pred, y_test)\n",
    "\n",
    "print(\"Accuracy Score : %.5f\"%acc)"
   ]
  },
  {
   "cell_type": "code",
   "execution_count": 76,
   "metadata": {},
   "outputs": [],
   "source": [
    "y_pred_test = GBCF.predict(test_set)\n",
    "Id = [id for id in range(1,y_pred_test.shape[0]+1)]\n",
    "y_pred_test_df = pd.DataFrame({'Id':Id,'Solution':y_pred_test})\n",
    "y_pred_test_df.to_csv('Prediction_GB.csv',index=0)"
   ]
  },
  {
   "cell_type": "code",
   "execution_count": null,
   "metadata": {},
   "outputs": [],
   "source": []
  }
 ],
 "metadata": {
  "kernelspec": {
   "display_name": "Python 3",
   "language": "python",
   "name": "python3"
  },
  "language_info": {
   "codemirror_mode": {
    "name": "ipython",
    "version": 3
   },
   "file_extension": ".py",
   "mimetype": "text/x-python",
   "name": "python",
   "nbconvert_exporter": "python",
   "pygments_lexer": "ipython3",
   "version": "3.6.8"
  }
 },
 "nbformat": 4,
 "nbformat_minor": 2
}
