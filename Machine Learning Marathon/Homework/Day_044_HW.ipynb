{
 "cells": [
  {
   "cell_type": "markdown",
   "metadata": {},
   "source": [
    "## [作業重點]\n",
    "確保你了解隨機森林模型中每個超參數的意義，並觀察調整超參數對結果的影響"
   ]
  },
  {
   "cell_type": "markdown",
   "metadata": {},
   "source": [
    "## 作業\n",
    "\n",
    "1. 試著調整 RandomForestClassifier(...) 中的參數，並觀察是否會改變結果？\n",
    "> 調整參數會讓結果變得更差\n",
    "\n",
    "2. 改用其他資料集 (boston, wine)，並與回歸模型與決策樹的結果進行比較\n",
    "> 資料集特徵數可能比較少,集成式學習的效果會與單一決策樹差不多,預計若資料更複雜時,集成式學習效果會更好"
   ]
  },
  {
   "cell_type": "code",
   "execution_count": 1,
   "metadata": {},
   "outputs": [],
   "source": [
    "from sklearn import datasets, metrics\n",
    "from sklearn.ensemble import RandomForestClassifier, RandomForestRegressor\n",
    "from sklearn.model_selection import train_test_split\n",
    "from sklearn.preprocessing import MinMaxScaler\n",
    "from sklearn.tree import DecisionTreeClassifier, DecisionTreeRegressor"
   ]
  },
  {
   "cell_type": "code",
   "execution_count": 2,
   "metadata": {},
   "outputs": [
    {
     "name": "stdout",
     "output_type": "stream",
     "text": [
      "Accuracy: 0.97368\n"
     ]
    }
   ],
   "source": [
    "iris = datasets.load_iris()\n",
    "\n",
    "x_train, x_test, y_train, y_test = train_test_split(iris.data, iris.target, test_size=0.25, random_state=4)\n",
    "\n",
    "clf = RandomForestClassifier(n_estimators=50, max_depth=4, min_samples_split =2, min_samples_leaf=3)\n",
    "\n",
    "clf.fit(x_train, y_train)\n",
    "\n",
    "y_pred = clf.predict(x_test)\n",
    "\n",
    "acc = metrics.accuracy_score(y_test, y_pred)\n",
    "print(\"Accuracy: %.5f\"%acc)"
   ]
  },
  {
   "cell_type": "markdown",
   "metadata": {},
   "source": [
    "## Boston"
   ]
  },
  {
   "cell_type": "code",
   "execution_count": 3,
   "metadata": {},
   "outputs": [
    {
     "name": "stdout",
     "output_type": "stream",
     "text": [
      "R2 Score : 0.84941\n"
     ]
    }
   ],
   "source": [
    "boston = datasets.load_boston()\n",
    "\n",
    "x_train, x_test, y_train, y_test = train_test_split(boston.data, boston.target, test_size=0.25, random_state=42)\n",
    "\n",
    "RGSR = RandomForestRegressor(n_estimators=14, max_depth=12, min_samples_split =5, min_samples_leaf=1, random_state=8)\n",
    "\n",
    "Normalizer = MinMaxScaler()\n",
    "\n",
    "Normalizer.fit(boston.data)\n",
    "\n",
    "x_train_n, x_test_n = Normalizer.transform(x_train), Normalizer.transform(x_test)\n",
    "\n",
    "RGSR.fit(x_train_n, y_train)\n",
    "\n",
    "y_pred = RGSR.predict(x_test_n)\n",
    "\n",
    "r2_score = metrics.r2_score(y_test, y_pred)\n",
    "\n",
    "print(\"R2 Score : %.5f\"%r2_score)"
   ]
  },
  {
   "cell_type": "code",
   "execution_count": 4,
   "metadata": {},
   "outputs": [
    {
     "name": "stdout",
     "output_type": "stream",
     "text": [
      "R square score : 0.84724\n"
     ]
    }
   ],
   "source": [
    "DTRG = DecisionTreeRegressor(max_depth=7, min_samples_split=8, min_samples_leaf=1, random_state=42)\n",
    "\n",
    "DTRG.fit(x_train_n, y_train)\n",
    "\n",
    "y_pred = DTRG.predict(x_test_n)\n",
    "\n",
    "print(\"R square score : %.5f\"%(metrics.r2_score(y_pred, y_test)))"
   ]
  },
  {
   "cell_type": "markdown",
   "metadata": {},
   "source": [
    "## Wine"
   ]
  },
  {
   "cell_type": "code",
   "execution_count": 5,
   "metadata": {},
   "outputs": [
    {
     "name": "stdout",
     "output_type": "stream",
     "text": [
      "Accuracy: 0.95556\n"
     ]
    }
   ],
   "source": [
    "wine = datasets.load_wine()\n",
    "\n",
    "x_train, x_test, y_train, y_test = train_test_split(wine.data, wine.target, test_size=0.25, random_state=42)\n",
    "\n",
    "RGCF = RandomForestClassifier(n_estimators=15, max_depth=5, min_samples_split =7, min_samples_leaf=1, random_state=42)\n",
    "\n",
    "Normalizer = MinMaxScaler()\n",
    "\n",
    "Normalizer.fit(boston.data)\n",
    "\n",
    "x_train_n, x_test_n = Normalizer.transform(x_train), Normalizer.transform(x_test)\n",
    "\n",
    "RGCF.fit(x_train_n, y_train)\n",
    "\n",
    "y_pred = RGCF.predict(x_test_n)\n",
    "\n",
    "acc = metrics.accuracy_score(y_test, y_pred)\n",
    "\n",
    "print(\"Accuracy: %.5f\"%acc)"
   ]
  },
  {
   "cell_type": "code",
   "execution_count": 11,
   "metadata": {},
   "outputs": [
    {
     "name": "stdout",
     "output_type": "stream",
     "text": [
      "Accuracy score : 0.95556\n"
     ]
    }
   ],
   "source": [
    "DTCR = DecisionTreeClassifier(max_depth=8, min_samples_split=9, min_samples_leaf=1, criterion='gini')\n",
    "\n",
    "DTCR.fit(x_train_n, y_train)\n",
    "\n",
    "y_pred = DTCR.predict(x_test_n)\n",
    "\n",
    "print('Accuracy score : %.5f'%(metrics.accuracy_score(y_pred, y_test)))"
   ]
  },
  {
   "cell_type": "code",
   "execution_count": null,
   "metadata": {},
   "outputs": [],
   "source": []
  }
 ],
 "metadata": {
  "kernelspec": {
   "display_name": "Python 3",
   "language": "python",
   "name": "python3"
  },
  "language_info": {
   "codemirror_mode": {
    "name": "ipython",
    "version": 3
   },
   "file_extension": ".py",
   "mimetype": "text/x-python",
   "name": "python",
   "nbconvert_exporter": "python",
   "pygments_lexer": "ipython3",
   "version": "3.6.8"
  }
 },
 "nbformat": 4,
 "nbformat_minor": 2
}
