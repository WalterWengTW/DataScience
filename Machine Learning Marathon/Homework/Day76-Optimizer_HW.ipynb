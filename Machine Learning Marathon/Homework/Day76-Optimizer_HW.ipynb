{
 "cells": [
  {
   "cell_type": "markdown",
   "metadata": {},
   "source": [
    "\n",
    "# 作業: \n",
    "    \n",
    "    (1)以, Adam, 為例, 調整 batch_size, epoch , 觀察accurancy, loss 的變化\n",
    "    \n",
    "    (2)以同一模型, 分別驗證 SGD, Adam, Rmsprop 的 accurancy"
   ]
  },
  {
   "cell_type": "code",
   "execution_count": 1,
   "metadata": {},
   "outputs": [
    {
     "name": "stderr",
     "output_type": "stream",
     "text": [
      "Using TensorFlow backend.\n"
     ]
    }
   ],
   "source": [
    "import keras\n",
    "#from keras.datasets import cifar10\n",
    "from keras.datasets import mnist \n",
    "from keras.preprocessing.image import ImageDataGenerator\n",
    "from keras.models import Sequential, load_model\n",
    "from keras.layers import Dense, Dropout, Activation, Flatten\n",
    "from keras.layers import Conv2D, MaxPooling2D\n",
    "from keras import optimizers\n",
    "from keras.callbacks import EarlyStopping, ModelCheckpoint\n",
    "import numpy \n"
   ]
  },
  {
   "cell_type": "code",
   "execution_count": 2,
   "metadata": {},
   "outputs": [],
   "source": [
    "#    第一步：選擇模型, 順序模型是多個網絡層的線性堆疊\n",
    " \n",
    "model = Sequential()\n",
    "\n",
    "#   第二步：構建網絡層\n",
    " \n",
    "model.add(Dense( 512,input_shape=(784,))) # 輸入層，28*28=784   \n",
    "model.add(Activation('relu')) # 激活函數是relu   \n",
    "\n",
    "model.add(Dense( 512)) # 隱藏層節點500個   \n",
    "model.add(Activation('relu'))  \n",
    "\n",
    "model.add(Dense( 512)) # 隱藏層節點500個   \n",
    "model.add(Activation('relu'))  \n",
    "\n",
    "model.add(Dense( 512)) # 隱藏層節點500個   \n",
    "model.add(Activation('relu'))  \n",
    "\n",
    "model.add(Dense( 10)) # 輸出結果是10個類別，所以維度是10   \n",
    "model.add(Activation('softmax')) # 最後一層用softmax作為激活函數"
   ]
  },
  {
   "cell_type": "code",
   "execution_count": 3,
   "metadata": {},
   "outputs": [
    {
     "name": "stdout",
     "output_type": "stream",
     "text": [
      "Total Parameters：1195018\n"
     ]
    }
   ],
   "source": [
    "# 模型建立完成後，統計參數總量\n",
    "print(\"Total Parameters：%d\" % model.count_params())"
   ]
  },
  {
   "cell_type": "code",
   "execution_count": 4,
   "metadata": {},
   "outputs": [
    {
     "name": "stdout",
     "output_type": "stream",
     "text": [
      "_________________________________________________________________\n",
      "Layer (type)                 Output Shape              Param #   \n",
      "=================================================================\n",
      "dense_1 (Dense)              (None, 512)               401920    \n",
      "_________________________________________________________________\n",
      "activation_1 (Activation)    (None, 512)               0         \n",
      "_________________________________________________________________\n",
      "dense_2 (Dense)              (None, 512)               262656    \n",
      "_________________________________________________________________\n",
      "activation_2 (Activation)    (None, 512)               0         \n",
      "_________________________________________________________________\n",
      "dense_3 (Dense)              (None, 512)               262656    \n",
      "_________________________________________________________________\n",
      "activation_3 (Activation)    (None, 512)               0         \n",
      "_________________________________________________________________\n",
      "dense_4 (Dense)              (None, 512)               262656    \n",
      "_________________________________________________________________\n",
      "activation_4 (Activation)    (None, 512)               0         \n",
      "_________________________________________________________________\n",
      "dense_5 (Dense)              (None, 10)                5130      \n",
      "_________________________________________________________________\n",
      "activation_5 (Activation)    (None, 10)                0         \n",
      "=================================================================\n",
      "Total params: 1,195,018\n",
      "Trainable params: 1,195,018\n",
      "Non-trainable params: 0\n",
      "_________________________________________________________________\n"
     ]
    }
   ],
   "source": [
    "# 輸出模型摘要資訊\n",
    "model.summary()"
   ]
  },
  {
   "cell_type": "code",
   "execution_count": 5,
   "metadata": {},
   "outputs": [],
   "source": [
    " '''\n",
    " SGD(隨機梯度下降) - Arguments\n",
    "lr: float >= 0. Learning rate.\n",
    "momentum: float >= 0. Parameter that accelerates SGD in the relevant direction and dampens oscillations.\n",
    "decay: float >= 0. Learning rate decay over each update.\n",
    "nesterov: boolean. Whether to apply Nesterov momentum.\n",
    "'''\n",
    "\n",
    "'''\n",
    "RMSprop- Arguments\n",
    "lr: float >= 0. Learning rate.\n",
    "rho: float >= 0.\n",
    "epsilon: float >= 0. Fuzz factor. If None, defaults to K.epsilon().\n",
    "decay: float >= 0. Learning rate decay over each update.\n",
    "'''\n",
    "opt = optimizers.Adam()\n",
    "\n"
   ]
  },
  {
   "cell_type": "code",
   "execution_count": 6,
   "metadata": {},
   "outputs": [],
   "source": [
    "# 第三步：編譯, \n",
    "model.compile(optimizer = opt, loss = 'categorical_crossentropy', metrics = ['accuracy'])"
   ]
  },
  {
   "cell_type": "code",
   "execution_count": 7,
   "metadata": {},
   "outputs": [],
   "source": [
    "#  第四步：資料分割\n",
    "# 使用Keras自帶的mnist工具讀取數據（第一次需要聯網）\n",
    "(X_train, y_train), (X_test, y_test) = mnist.load_data() \n",
    "\n",
    "# 由於mist的輸入數據維度是(num, 28 , 28)，這裡需要把後面的維度直接拼起來變成784維   \n",
    "X_train = X_train.reshape(X_train.shape[0], X_train.shape[1] * X_train.shape[2])/255.0\n",
    "X_test = X_test.reshape(X_test.shape[0], X_test.shape[1] * X_test.shape[2 ])/255.0\n",
    "Y_train = (numpy.arange(10) == y_train[:, None]).astype(int)\n",
    "Y_test = (numpy.arange(10) == y_test[:, None]).astype(int)\n"
   ]
  },
  {
   "cell_type": "code",
   "execution_count": 8,
   "metadata": {},
   "outputs": [],
   "source": [
    "\n",
    "'''\n",
    "   宣告並設定\n",
    "   batch_size：對總的樣本數進行分組，每組包含的樣本數量\n",
    "   epochs ：訓練次數\n",
    "   \n",
    "''' \n",
    "batch_size = 64\n",
    "epochs = 20\n"
   ]
  },
  {
   "cell_type": "code",
   "execution_count": 9,
   "metadata": {},
   "outputs": [
    {
     "name": "stdout",
     "output_type": "stream",
     "text": [
      "Train on 42000 samples, validate on 18000 samples\n",
      "Epoch 1/20\n",
      " - 4s - loss: 0.2411 - acc: 0.9287 - val_loss: 0.1555 - val_acc: 0.9548\n",
      "Epoch 2/20\n",
      " - 4s - loss: 0.1024 - acc: 0.9701 - val_loss: 0.1731 - val_acc: 0.9527\n",
      "Epoch 3/20\n",
      " - 4s - loss: 0.0763 - acc: 0.9773 - val_loss: 0.1162 - val_acc: 0.9668\n",
      "Epoch 4/20\n",
      " - 4s - loss: 0.0582 - acc: 0.9819 - val_loss: 0.1186 - val_acc: 0.9669\n",
      "Epoch 5/20\n",
      " - 4s - loss: 0.0468 - acc: 0.9854 - val_loss: 0.1191 - val_acc: 0.9703\n",
      "Epoch 6/20\n",
      " - 4s - loss: 0.0408 - acc: 0.9880 - val_loss: 0.1156 - val_acc: 0.9712\n",
      "Epoch 7/20\n",
      " - 4s - loss: 0.0355 - acc: 0.9894 - val_loss: 0.1210 - val_acc: 0.9725\n",
      "Epoch 8/20\n",
      " - 4s - loss: 0.0277 - acc: 0.9913 - val_loss: 0.1122 - val_acc: 0.9751\n",
      "Epoch 9/20\n",
      " - 4s - loss: 0.0282 - acc: 0.9915 - val_loss: 0.1631 - val_acc: 0.9701\n",
      "Epoch 10/20\n",
      " - 4s - loss: 0.0290 - acc: 0.9915 - val_loss: 0.1059 - val_acc: 0.9740\n",
      "Epoch 11/20\n",
      " - 4s - loss: 0.0223 - acc: 0.9932 - val_loss: 0.1247 - val_acc: 0.9763\n",
      "Epoch 12/20\n",
      " - 4s - loss: 0.0181 - acc: 0.9947 - val_loss: 0.1233 - val_acc: 0.9767\n",
      "Epoch 13/20\n",
      " - 4s - loss: 0.0214 - acc: 0.9946 - val_loss: 0.1295 - val_acc: 0.9739\n",
      "Epoch 14/20\n",
      " - 4s - loss: 0.0191 - acc: 0.9948 - val_loss: 0.1119 - val_acc: 0.9781\n",
      "Epoch 15/20\n",
      " - 4s - loss: 0.0194 - acc: 0.9947 - val_loss: 0.1292 - val_acc: 0.9749\n",
      "Epoch 16/20\n",
      " - 4s - loss: 0.0157 - acc: 0.9954 - val_loss: 0.1276 - val_acc: 0.9762\n",
      "Epoch 17/20\n",
      " - 4s - loss: 0.0154 - acc: 0.9955 - val_loss: 0.1690 - val_acc: 0.9681\n",
      "Epoch 18/20\n",
      " - 4s - loss: 0.0176 - acc: 0.9957 - val_loss: 0.1572 - val_acc: 0.9732\n",
      "Epoch 19/20\n",
      " - 4s - loss: 0.0193 - acc: 0.9948 - val_loss: 0.1263 - val_acc: 0.9763\n",
      "Epoch 20/20\n",
      " - 4s - loss: 0.0141 - acc: 0.9963 - val_loss: 0.1508 - val_acc: 0.9759\n"
     ]
    }
   ],
   "source": [
    "# 第五步：訓練, 修正 model 參數\n",
    "#Blas GEMM launch failed , 避免動態分配GPU / CPU, 出現問題\n",
    "import tensorflow as tf\n",
    "gpu_options = tf.GPUOptions(per_process_gpu_memory_fraction=0.333)\n",
    "sess = tf.Session(config=tf.ConfigProto(gpu_options=gpu_options))\n",
    "\n",
    "\n",
    "history = model.fit(X_train,Y_train,batch_size = batch_size, epochs=epochs, shuffle=True,verbose=2,validation_split=0.3 )"
   ]
  },
  {
   "cell_type": "code",
   "execution_count": 10,
   "metadata": {},
   "outputs": [
    {
     "name": "stdout",
     "output_type": "stream",
     "text": [
      " test set \n",
      "\n",
      " The test loss is %f  [0.1340343151787522, 0.9780000078678132]\n",
      "\n",
      " The accuracy of the model is 0.978000 \n"
     ]
    }
   ],
   "source": [
    "#    第六步：輸出\n",
    " \n",
    "print ( \" test set \" )\n",
    "scores = model.evaluate(X_test,Y_test,batch_size=200,verbose= 0)\n",
    "print ( \"\" )\n",
    "#print ( \" The test loss is %f \" % scores)\n",
    "print ( \" The test loss is %f \", scores)\n",
    "result = model.predict(X_test,batch_size=200,verbose= 0)\n",
    "\n",
    "result_max = numpy.argmax(result, axis = 1 )\n",
    "test_max = numpy.argmax(Y_test, axis = 1 )\n",
    "\n",
    "result_bool = numpy.equal(result_max, test_max)\n",
    "true_num = numpy.sum(result_bool)\n",
    "print ( \"\" )\n",
    "print ( \" The accuracy of the model is %f \" % (true_num/len(result_bool)))"
   ]
  },
  {
   "cell_type": "code",
   "execution_count": 11,
   "metadata": {},
   "outputs": [
    {
     "data": {
      "image/png": "[encoded data removed]",
      "text/plain": [
       "<Figure size 432x288 with 1 Axes>"
      ]
     },
     "metadata": {
      "needs_background": "light"
     },
     "output_type": "display_data"
    },
    {
     "data": {
      "image/png": "[encoded data removed]",
      "text/plain": [
       "<Figure size 432x288 with 1 Axes>"
      ]
     },
     "metadata": {
      "needs_background": "light"
     },
     "output_type": "display_data"
    }
   ],
   "source": [
    "import matplotlib.pyplot as plt\n",
    "\n",
    "%matplotlib inline\n",
    "\n",
    "# history = model.fit(x, y, validation_split=0.25, epochs=50, batch_size=16, verbose=1)\n",
    "\n",
    "# Plot training & validation accuracy values\n",
    "plt.plot(history.history['acc'])\n",
    "plt.plot(history.history['val_acc'])\n",
    "plt.title('Model accuracy')\n",
    "plt.ylabel('Accuracy')\n",
    "plt.xlabel('Epoch')\n",
    "plt.legend(['Train', 'Test'], loc='upper left')\n",
    "plt.show()\n",
    "\n",
    "# Plot training & validation loss values\n",
    "plt.plot(history.history['loss'])\n",
    "plt.plot(history.history['val_loss'])\n",
    "plt.title('Model loss')\n",
    "plt.ylabel('Loss')\n",
    "plt.xlabel('Epoch')\n",
    "plt.legend(['Train', 'Test'], loc='upper left')\n",
    "plt.show()"
   ]
  },
  {
   "cell_type": "markdown",
   "metadata": {},
   "source": [
    "# different batch size"
   ]
  },
  {
   "cell_type": "markdown",
   "metadata": {},
   "source": [
    "### Batch 32, Epoch 20"
   ]
  },
  {
   "cell_type": "code",
   "execution_count": 12,
   "metadata": {},
   "outputs": [
    {
     "name": "stdout",
     "output_type": "stream",
     "text": [
      "Train on 42000 samples, validate on 18000 samples\n",
      "Epoch 1/20\n",
      "42000/42000 [==============================] - 8s 186us/step - loss: 0.2430 - acc: 0.9271 - val_loss: 0.1474 - val_acc: 0.9581\n",
      "Epoch 2/20\n",
      "42000/42000 [==============================] - 7s 177us/step - loss: 0.1134 - acc: 0.9673 - val_loss: 0.1454 - val_acc: 0.9607\n",
      "Epoch 3/20\n",
      "42000/42000 [==============================] - 7s 177us/step - loss: 0.0823 - acc: 0.9759 - val_loss: 0.1269 - val_acc: 0.9643\n",
      "Epoch 4/20\n",
      "42000/42000 [==============================] - 8s 185us/step - loss: 0.0658 - acc: 0.9806 - val_loss: 0.1299 - val_acc: 0.9712\n",
      "Epoch 5/20\n",
      "42000/42000 [==============================] - 8s 192us/step - loss: 0.0548 - acc: 0.9843 - val_loss: 0.1393 - val_acc: 0.9644\n",
      "Epoch 6/20\n",
      "42000/42000 [==============================] - 8s 188us/step - loss: 0.0474 - acc: 0.9860 - val_loss: 0.1087 - val_acc: 0.9738\n",
      "Epoch 7/20\n",
      "42000/42000 [==============================] - 8s 185us/step - loss: 0.0425 - acc: 0.9880 - val_loss: 0.1500 - val_acc: 0.9649\n",
      "Epoch 8/20\n",
      "42000/42000 [==============================] - 8s 197us/step - loss: 0.0365 - acc: 0.9894 - val_loss: 0.1311 - val_acc: 0.9731\n",
      "Epoch 9/20\n",
      "42000/42000 [==============================] - 8s 189us/step - loss: 0.0372 - acc: 0.9899 - val_loss: 0.1403 - val_acc: 0.9717\n",
      "Epoch 10/20\n",
      "42000/42000 [==============================] - 8s 192us/step - loss: 0.0308 - acc: 0.9914 - val_loss: 0.1600 - val_acc: 0.9714\n",
      "Epoch 11/20\n",
      "42000/42000 [==============================] - 8s 186us/step - loss: 0.0277 - acc: 0.9925 - val_loss: 0.1379 - val_acc: 0.9766\n",
      "Epoch 12/20\n",
      "42000/42000 [==============================] - 8s 193us/step - loss: 0.0316 - acc: 0.9924 - val_loss: 0.1456 - val_acc: 0.9762\n",
      "Epoch 13/20\n",
      "42000/42000 [==============================] - 8s 189us/step - loss: 0.0289 - acc: 0.9926 - val_loss: 0.1193 - val_acc: 0.9768\n",
      "Epoch 14/20\n",
      "42000/42000 [==============================] - 8s 193us/step - loss: 0.0252 - acc: 0.9941 - val_loss: 0.1306 - val_acc: 0.9777\n",
      "Epoch 15/20\n",
      "42000/42000 [==============================] - 8s 190us/step - loss: 0.0251 - acc: 0.9937 - val_loss: 0.1432 - val_acc: 0.9762\n",
      "Epoch 16/20\n",
      "42000/42000 [==============================] - 8s 195us/step - loss: 0.0237 - acc: 0.9945 - val_loss: 0.1273 - val_acc: 0.9779\n",
      "Epoch 17/20\n",
      "42000/42000 [==============================] - 8s 190us/step - loss: 0.0220 - acc: 0.9946 - val_loss: 0.1510 - val_acc: 0.9748\n",
      "Epoch 18/20\n",
      "42000/42000 [==============================] - 8s 190us/step - loss: 0.0257 - acc: 0.9942 - val_loss: 0.1613 - val_acc: 0.9760\n",
      "Epoch 19/20\n",
      "42000/42000 [==============================] - 8s 194us/step - loss: 0.0235 - acc: 0.9944 - val_loss: 0.1486 - val_acc: 0.9781\n",
      "Epoch 20/20\n",
      "42000/42000 [==============================] - 8s 193us/step - loss: 0.0229 - acc: 0.9952 - val_loss: 0.1745 - val_acc: 0.9743\n",
      " test set \n",
      "\n",
      " The test loss is %f  [0.14015014564622105, 0.9767000055313111]\n",
      "\n",
      " The accuracy of the model is 0.976700 \n"
     ]
    }
   ],
   "source": [
    "model = Sequential()\n",
    "model.add(Dense( 512,input_shape=(784,)))\n",
    "model.add(Activation('relu'))\n",
    "model.add(Dense( 512))\n",
    "model.add(Activation('relu'))  \n",
    "model.add(Dense( 512))\n",
    "model.add(Activation('relu'))  \n",
    "model.add(Dense( 512)) \n",
    "model.add(Activation('relu'))  \n",
    "model.add(Dense( 10))\n",
    "model.add(Activation('softmax'))\n",
    "opt = optimizers.Adam()\n",
    "model.compile(optimizer = opt, loss = 'categorical_crossentropy', metrics = ['accuracy'])\n",
    "batch_size = 32\n",
    "epochs = 20\n",
    "history = model.fit(X_train,Y_train,batch_size = batch_size, epochs=epochs, shuffle=True,verbose=1,validation_split=0.3 )\n",
    "\n",
    "print ( \" test set \" )\n",
    "scores = model.evaluate(X_test,Y_test,batch_size=200,verbose= 0)\n",
    "print ( \"\" )\n",
    "print ( \" The test loss is %f \", scores)\n",
    "result = model.predict(X_test,batch_size=200,verbose= 0)\n",
    "result_max = numpy.argmax(result, axis = 1 )\n",
    "test_max = numpy.argmax(Y_test, axis = 1 )\n",
    "result_bool = numpy.equal(result_max, test_max)\n",
    "true_num = numpy.sum(result_bool)\n",
    "print ( \"\" )\n",
    "print ( \" The accuracy of the model is %f \" % (true_num/len(result_bool)))"
   ]
  },
  {
   "cell_type": "markdown",
   "metadata": {},
   "source": [
    "### Batch 128, Epoch 20"
   ]
  },
  {
   "cell_type": "code",
   "execution_count": 13,
   "metadata": {},
   "outputs": [
    {
     "name": "stdout",
     "output_type": "stream",
     "text": [
      "Train on 42000 samples, validate on 18000 samples\n",
      "Epoch 1/20\n",
      "42000/42000 [==============================] - 3s 62us/step - loss: 0.2562 - acc: 0.9229 - val_loss: 0.1509 - val_acc: 0.9541\n",
      "Epoch 2/20\n",
      "42000/42000 [==============================] - 2s 52us/step - loss: 0.0971 - acc: 0.9704 - val_loss: 0.1320 - val_acc: 0.9633\n",
      "Epoch 3/20\n",
      "42000/42000 [==============================] - 2s 51us/step - loss: 0.0642 - acc: 0.9800 - val_loss: 0.1113 - val_acc: 0.9685\n",
      "Epoch 4/20\n",
      "42000/42000 [==============================] - 2s 52us/step - loss: 0.0512 - acc: 0.9842 - val_loss: 0.1030 - val_acc: 0.9723\n",
      "Epoch 5/20\n",
      "42000/42000 [==============================] - 2s 52us/step - loss: 0.0367 - acc: 0.9889 - val_loss: 0.1230 - val_acc: 0.9683\n",
      "Epoch 6/20\n",
      "42000/42000 [==============================] - 2s 52us/step - loss: 0.0382 - acc: 0.9875 - val_loss: 0.1192 - val_acc: 0.9727\n",
      "Epoch 7/20\n",
      "42000/42000 [==============================] - 2s 53us/step - loss: 0.0307 - acc: 0.9906 - val_loss: 0.1162 - val_acc: 0.9712\n",
      "Epoch 8/20\n",
      "42000/42000 [==============================] - 2s 53us/step - loss: 0.0249 - acc: 0.9926 - val_loss: 0.1358 - val_acc: 0.9682\n",
      "Epoch 9/20\n",
      "42000/42000 [==============================] - 2s 54us/step - loss: 0.0239 - acc: 0.9928 - val_loss: 0.1144 - val_acc: 0.9751\n",
      "Epoch 10/20\n",
      "42000/42000 [==============================] - 2s 54us/step - loss: 0.0222 - acc: 0.9933 - val_loss: 0.1158 - val_acc: 0.9743\n",
      "Epoch 11/20\n",
      "42000/42000 [==============================] - 2s 56us/step - loss: 0.0217 - acc: 0.9933 - val_loss: 0.1223 - val_acc: 0.9742\n",
      "Epoch 12/20\n",
      "42000/42000 [==============================] - 2s 54us/step - loss: 0.0170 - acc: 0.9947 - val_loss: 0.1423 - val_acc: 0.9701\n",
      "Epoch 13/20\n",
      "42000/42000 [==============================] - 2s 58us/step - loss: 0.0185 - acc: 0.9943 - val_loss: 0.1202 - val_acc: 0.9748\n",
      "Epoch 14/20\n",
      "42000/42000 [==============================] - 3s 61us/step - loss: 0.0143 - acc: 0.9958 - val_loss: 0.1455 - val_acc: 0.9747\n",
      "Epoch 15/20\n",
      "42000/42000 [==============================] - 3s 62us/step - loss: 0.0166 - acc: 0.9951 - val_loss: 0.1184 - val_acc: 0.9755\n",
      "Epoch 16/20\n",
      "42000/42000 [==============================] - 3s 61us/step - loss: 0.0134 - acc: 0.9962 - val_loss: 0.1155 - val_acc: 0.9757\n",
      "Epoch 17/20\n",
      "42000/42000 [==============================] - 2s 57us/step - loss: 0.0192 - acc: 0.9947 - val_loss: 0.1183 - val_acc: 0.9760\n",
      "Epoch 18/20\n",
      "42000/42000 [==============================] - 2s 59us/step - loss: 0.0108 - acc: 0.9971 - val_loss: 0.1305 - val_acc: 0.9777\n",
      "Epoch 19/20\n",
      "42000/42000 [==============================] - 2s 58us/step - loss: 0.0125 - acc: 0.9965 - val_loss: 0.1262 - val_acc: 0.9762\n",
      "Epoch 20/20\n",
      "42000/42000 [==============================] - 2s 57us/step - loss: 0.0130 - acc: 0.9967 - val_loss: 0.1343 - val_acc: 0.9746\n",
      " test set \n",
      "\n",
      " The test loss is %f  [0.10920035035222099, 0.9781000077724457]\n",
      "\n",
      " The accuracy of the model is 0.978100 \n"
     ]
    }
   ],
   "source": [
    "model = Sequential()\n",
    "model.add(Dense( 512,input_shape=(784,)))\n",
    "model.add(Activation('relu'))\n",
    "model.add(Dense( 512))\n",
    "model.add(Activation('relu'))  \n",
    "model.add(Dense( 512))\n",
    "model.add(Activation('relu'))  \n",
    "model.add(Dense( 512)) \n",
    "model.add(Activation('relu'))  \n",
    "model.add(Dense( 10))\n",
    "model.add(Activation('softmax'))\n",
    "opt = optimizers.Adam()\n",
    "model.compile(optimizer = opt, loss = 'categorical_crossentropy', metrics = ['accuracy'])\n",
    "batch_size = 128\n",
    "epochs = 20\n",
    "history = model.fit(X_train,Y_train,batch_size = batch_size, epochs=epochs, shuffle=True,verbose=1,validation_split=0.3 )\n",
    "\n",
    "print ( \" test set \" )\n",
    "scores = model.evaluate(X_test,Y_test,batch_size=200,verbose= 0)\n",
    "print ( \"\" )\n",
    "print ( \" The test loss is %f \", scores)\n",
    "result = model.predict(X_test,batch_size=200,verbose= 0)\n",
    "result_max = numpy.argmax(result, axis = 1 )\n",
    "test_max = numpy.argmax(Y_test, axis = 1 )\n",
    "result_bool = numpy.equal(result_max, test_max)\n",
    "true_num = numpy.sum(result_bool)\n",
    "print ( \"\" )\n",
    "print ( \" The accuracy of the model is %f \" % (true_num/len(result_bool)))"
   ]
  },
  {
   "cell_type": "markdown",
   "metadata": {},
   "source": [
    "# Different optimizer"
   ]
  },
  {
   "cell_type": "markdown",
   "metadata": {},
   "source": [
    "### SGD"
   ]
  },
  {
   "cell_type": "code",
   "execution_count": 14,
   "metadata": {},
   "outputs": [
    {
     "name": "stdout",
     "output_type": "stream",
     "text": [
      "Train on 42000 samples, validate on 18000 samples\n",
      "Epoch 1/20\n",
      "42000/42000 [==============================] - 2s 50us/step - loss: 1.5240 - acc: 0.6636 - val_loss: 0.6888 - val_acc: 0.8307\n",
      "Epoch 2/20\n",
      "42000/42000 [==============================] - 2s 38us/step - loss: 0.5035 - acc: 0.8676 - val_loss: 0.4016 - val_acc: 0.8868\n",
      "Epoch 3/20\n",
      "42000/42000 [==============================] - 2s 38us/step - loss: 0.3642 - acc: 0.8983 - val_loss: 0.3381 - val_acc: 0.8994\n",
      "Epoch 4/20\n",
      "42000/42000 [==============================] - 2s 38us/step - loss: 0.3119 - acc: 0.9118 - val_loss: 0.2983 - val_acc: 0.9139\n",
      "Epoch 5/20\n",
      "42000/42000 [==============================] - 2s 37us/step - loss: 0.2803 - acc: 0.9200 - val_loss: 0.2826 - val_acc: 0.9182\n",
      "Epoch 6/20\n",
      "42000/42000 [==============================] - 2s 37us/step - loss: 0.2564 - acc: 0.9261 - val_loss: 0.2656 - val_acc: 0.9220\n",
      "Epoch 7/20\n",
      "42000/42000 [==============================] - 2s 38us/step - loss: 0.2363 - acc: 0.9323 - val_loss: 0.2769 - val_acc: 0.9108\n",
      "Epoch 8/20\n",
      "42000/42000 [==============================] - 2s 37us/step - loss: 0.2200 - acc: 0.9382 - val_loss: 0.2316 - val_acc: 0.9307\n",
      "Epoch 9/20\n",
      "42000/42000 [==============================] - 2s 38us/step - loss: 0.2056 - acc: 0.9418 - val_loss: 0.2342 - val_acc: 0.9308\n",
      "Epoch 10/20\n",
      "42000/42000 [==============================] - 2s 37us/step - loss: 0.1936 - acc: 0.9457 - val_loss: 0.2124 - val_acc: 0.9366\n",
      "Epoch 11/20\n",
      "42000/42000 [==============================] - 2s 38us/step - loss: 0.1818 - acc: 0.9475 - val_loss: 0.1917 - val_acc: 0.9442\n",
      "Epoch 12/20\n",
      "42000/42000 [==============================] - 2s 39us/step - loss: 0.1719 - acc: 0.9512 - val_loss: 0.2016 - val_acc: 0.9407\n",
      "Epoch 13/20\n",
      "42000/42000 [==============================] - 2s 39us/step - loss: 0.1625 - acc: 0.9533 - val_loss: 0.1794 - val_acc: 0.9484\n",
      "Epoch 14/20\n",
      "42000/42000 [==============================] - 2s 38us/step - loss: 0.1539 - acc: 0.9561 - val_loss: 0.1669 - val_acc: 0.9526\n",
      "Epoch 15/20\n",
      "42000/42000 [==============================] - 2s 39us/step - loss: 0.1460 - acc: 0.9582 - val_loss: 0.1683 - val_acc: 0.9524\n",
      "Epoch 16/20\n",
      "42000/42000 [==============================] - 2s 38us/step - loss: 0.1383 - acc: 0.9601 - val_loss: 0.1764 - val_acc: 0.9491\n",
      "Epoch 17/20\n",
      "42000/42000 [==============================] - 2s 40us/step - loss: 0.1318 - acc: 0.9626 - val_loss: 0.1530 - val_acc: 0.9566\n",
      "Epoch 18/20\n",
      "42000/42000 [==============================] - 2s 41us/step - loss: 0.1253 - acc: 0.9646 - val_loss: 0.2042 - val_acc: 0.9388\n",
      "Epoch 19/20\n",
      "42000/42000 [==============================] - 2s 41us/step - loss: 0.1196 - acc: 0.9661 - val_loss: 0.1678 - val_acc: 0.9524\n",
      "Epoch 20/20\n",
      "42000/42000 [==============================] - 2s 39us/step - loss: 0.1138 - acc: 0.9677 - val_loss: 0.1426 - val_acc: 0.9587\n",
      " test set \n",
      "\n",
      " The test loss is %f  [0.1318645061273128, 0.9611000001430512]\n",
      "\n",
      " The accuracy of the model is 0.961100 \n"
     ]
    }
   ],
   "source": [
    "model = Sequential()\n",
    "model.add(Dense( 512,input_shape=(784,)))\n",
    "model.add(Activation('relu'))\n",
    "model.add(Dense( 512))\n",
    "model.add(Activation('relu'))  \n",
    "model.add(Dense( 512))\n",
    "model.add(Activation('relu'))  \n",
    "model.add(Dense( 512)) \n",
    "model.add(Activation('relu'))  \n",
    "model.add(Dense( 10))\n",
    "model.add(Activation('softmax'))\n",
    "opt = optimizers.SGD()\n",
    "model.compile(optimizer = opt, loss = 'categorical_crossentropy', metrics = ['accuracy'])\n",
    "batch_size = 128\n",
    "epochs = 20\n",
    "history = model.fit(X_train,Y_train,batch_size = batch_size, epochs=epochs, shuffle=True,verbose=1,validation_split=0.3 )\n",
    "\n",
    "print ( \" test set \" )\n",
    "scores = model.evaluate(X_test,Y_test,batch_size=200,verbose= 0)\n",
    "print ( \"\" )\n",
    "print ( \" The test loss is %f \", scores)\n",
    "result = model.predict(X_test,batch_size=200,verbose= 0)\n",
    "result_max = numpy.argmax(result, axis = 1 )\n",
    "test_max = numpy.argmax(Y_test, axis = 1 )\n",
    "result_bool = numpy.equal(result_max, test_max)\n",
    "true_num = numpy.sum(result_bool)\n",
    "print ( \"\" )\n",
    "print ( \" The accuracy of the model is %f \" % (true_num/len(result_bool)))"
   ]
  },
  {
   "cell_type": "markdown",
   "metadata": {},
   "source": [
    "### RMSprop"
   ]
  },
  {
   "cell_type": "code",
   "execution_count": 15,
   "metadata": {},
   "outputs": [
    {
     "name": "stdout",
     "output_type": "stream",
     "text": [
      "Train on 42000 samples, validate on 18000 samples\n",
      "Epoch 1/20\n",
      "42000/42000 [==============================] - 2s 59us/step - loss: 0.3197 - acc: 0.9002 - val_loss: 0.1792 - val_acc: 0.9494\n",
      "Epoch 2/20\n",
      "42000/42000 [==============================] - 2s 49us/step - loss: 0.1155 - acc: 0.9658 - val_loss: 0.1186 - val_acc: 0.9663\n",
      "Epoch 3/20\n",
      "42000/42000 [==============================] - 2s 50us/step - loss: 0.0787 - acc: 0.9777 - val_loss: 0.1410 - val_acc: 0.9626\n",
      "Epoch 4/20\n",
      "42000/42000 [==============================] - 2s 51us/step - loss: 0.0626 - acc: 0.9821 - val_loss: 0.1148 - val_acc: 0.9741\n",
      "Epoch 5/20\n",
      "42000/42000 [==============================] - 2s 51us/step - loss: 0.0495 - acc: 0.9862 - val_loss: 0.1651 - val_acc: 0.9695\n",
      "Epoch 6/20\n",
      "42000/42000 [==============================] - 2s 49us/step - loss: 0.0472 - acc: 0.9875 - val_loss: 0.2406 - val_acc: 0.9617\n",
      "Epoch 7/20\n",
      "42000/42000 [==============================] - 2s 50us/step - loss: 0.0421 - acc: 0.9899 - val_loss: 0.1370 - val_acc: 0.9779\n",
      "Epoch 8/20\n",
      "42000/42000 [==============================] - 2s 50us/step - loss: 0.0402 - acc: 0.9905 - val_loss: 0.1502 - val_acc: 0.9728\n",
      "Epoch 9/20\n",
      "42000/42000 [==============================] - 2s 52us/step - loss: 0.0354 - acc: 0.9910 - val_loss: 0.3330 - val_acc: 0.9551\n",
      "Epoch 10/20\n",
      "42000/42000 [==============================] - 2s 51us/step - loss: 0.0363 - acc: 0.9925 - val_loss: 0.2182 - val_acc: 0.9721\n",
      "Epoch 11/20\n",
      "42000/42000 [==============================] - 2s 51us/step - loss: 0.0337 - acc: 0.9926 - val_loss: 0.1877 - val_acc: 0.9749\n",
      "Epoch 12/20\n",
      "42000/42000 [==============================] - 2s 51us/step - loss: 0.0318 - acc: 0.9938 - val_loss: 0.2457 - val_acc: 0.9705\n",
      "Epoch 13/20\n",
      "42000/42000 [==============================] - 2s 52us/step - loss: 0.0362 - acc: 0.9932 - val_loss: 0.1703 - val_acc: 0.9759\n",
      "Epoch 14/20\n",
      "42000/42000 [==============================] - 2s 51us/step - loss: 0.0341 - acc: 0.9936 - val_loss: 0.2504 - val_acc: 0.9713\n",
      "Epoch 15/20\n",
      "42000/42000 [==============================] - 2s 52us/step - loss: 0.0249 - acc: 0.9948 - val_loss: 0.2250 - val_acc: 0.9741\n",
      "Epoch 16/20\n",
      "42000/42000 [==============================] - 2s 53us/step - loss: 0.0342 - acc: 0.9941 - val_loss: 0.2118 - val_acc: 0.9737\n",
      "Epoch 17/20\n",
      "42000/42000 [==============================] - 2s 52us/step - loss: 0.0316 - acc: 0.9943 - val_loss: 0.1906 - val_acc: 0.9753\n",
      "Epoch 18/20\n",
      "42000/42000 [==============================] - 2s 51us/step - loss: 0.0276 - acc: 0.9948 - val_loss: 0.2204 - val_acc: 0.9727\n",
      "Epoch 19/20\n",
      "42000/42000 [==============================] - 2s 52us/step - loss: 0.0328 - acc: 0.9944 - val_loss: 0.1946 - val_acc: 0.9757\n",
      "Epoch 20/20\n",
      "42000/42000 [==============================] - 2s 51us/step - loss: 0.0297 - acc: 0.9951 - val_loss: 0.2244 - val_acc: 0.9754\n",
      " test set \n",
      "\n",
      " The test loss is %f  [0.2098096660236024, 0.9742000007629394]\n",
      "\n",
      " The accuracy of the model is 0.974200 \n"
     ]
    }
   ],
   "source": [
    "model = Sequential()\n",
    "model.add(Dense( 512,input_shape=(784,)))\n",
    "model.add(Activation('relu'))\n",
    "model.add(Dense( 512))\n",
    "model.add(Activation('relu'))  \n",
    "model.add(Dense( 512))\n",
    "model.add(Activation('relu'))  \n",
    "model.add(Dense( 512)) \n",
    "model.add(Activation('relu'))  \n",
    "model.add(Dense( 10))\n",
    "model.add(Activation('softmax'))\n",
    "opt = optimizers.RMSprop()\n",
    "model.compile(optimizer = opt, loss = 'categorical_crossentropy', metrics = ['accuracy'])\n",
    "batch_size = 128\n",
    "epochs = 20\n",
    "history = model.fit(X_train,Y_train,batch_size = batch_size, epochs=epochs, shuffle=True,verbose=1,validation_split=0.3 )\n",
    "\n",
    "print ( \" test set \" )\n",
    "scores = model.evaluate(X_test,Y_test,batch_size=200,verbose= 0)\n",
    "print ( \"\" )\n",
    "print ( \" The test loss is %f \", scores)\n",
    "result = model.predict(X_test,batch_size=200,verbose= 0)\n",
    "result_max = numpy.argmax(result, axis = 1 )\n",
    "test_max = numpy.argmax(Y_test, axis = 1 )\n",
    "result_bool = numpy.equal(result_max, test_max)\n",
    "true_num = numpy.sum(result_bool)\n",
    "print ( \"\" )\n",
    "print ( \" The accuracy of the model is %f \" % (true_num/len(result_bool)))"
   ]
  },
  {
   "cell_type": "code",
   "execution_count": null,
   "metadata": {},
   "outputs": [],
   "source": []
  }
 ],
 "metadata": {
  "kernelspec": {
   "display_name": "Python 3",
   "language": "python",
   "name": "python3"
  },
  "language_info": {
   "codemirror_mode": {
    "name": "ipython",
    "version": 3
   },
   "file_extension": ".py",
   "mimetype": "text/x-python",
   "name": "python",
   "nbconvert_exporter": "python",
   "pygments_lexer": "ipython3",
   "version": "3.6.8"
  }
 },
 "nbformat": 4,
 "nbformat_minor": 2
}
