{
 "cells": [
  {
   "cell_type": "markdown",
   "metadata": {},
   "source": [
    "## [作業重點]\n",
    "了解如何使用 Sklearn 中的 hyper-parameter search 找出最佳的超參數"
   ]
  },
  {
   "cell_type": "markdown",
   "metadata": {},
   "source": [
    "### 作業\n",
    "請使用不同的資料集，並使用 hyper-parameter search 的方式，看能不能找出最佳的超參數組合"
   ]
  },
  {
   "cell_type": "code",
   "execution_count": 2,
   "metadata": {},
   "outputs": [],
   "source": [
    "from sklearn import datasets, metrics\n",
    "from sklearn.model_selection import train_test_split, GridSearchCV\n",
    "from sklearn.ensemble import GradientBoostingRegressor, GradientBoostingClassifier\n",
    "from sklearn.preprocessing import StandardScaler"
   ]
  },
  {
   "cell_type": "markdown",
   "metadata": {},
   "source": [
    "## Regression Problem"
   ]
  },
  {
   "cell_type": "code",
   "execution_count": 9,
   "metadata": {},
   "outputs": [],
   "source": [
    "diabetes = datasets.load_diabetes()\n",
    "\n",
    "x_train, x_test, y_train, y_test = train_test_split(diabetes.data, diabetes.target, test_size=0.1)\n",
    "\n",
    "normalizer = StandardScaler()\n",
    "\n",
    "normalizer.fit(diabetes.data)\n",
    "\n",
    "x_train_n, x_test_n = normalizer.transform(x_train), normalizer.transform(x_test)"
   ]
  },
  {
   "cell_type": "code",
   "execution_count": 13,
   "metadata": {},
   "outputs": [
    {
     "name": "stdout",
     "output_type": "stream",
     "text": [
      "MSE : 3702.845\n",
      "R2 score : -0.692\n"
     ]
    }
   ],
   "source": [
    "GBRG = GradientBoostingRegressor(random_state=42)\n",
    "\n",
    "GBRG.fit(x_train_n, y_train)\n",
    "\n",
    "y_pred = GBRG.predict(x_test_n)\n",
    "\n",
    "MSE, R2_score = metrics.mean_squared_error(y_pred, y_test), metrics.r2_score(y_pred, y_test)\n",
    "\n",
    "print(\"MSE : %.3f\"%MSE)\n",
    "\n",
    "print(\"R2 score : %.3f\"%R2_score)"
   ]
  },
  {
   "cell_type": "code",
   "execution_count": 18,
   "metadata": {},
   "outputs": [
    {
     "name": "stderr",
     "output_type": "stream",
     "text": [
      "D:\\Anaconda3\\envs\\DNNGPU\\lib\\site-packages\\sklearn\\model_selection\\_split.py:1978: FutureWarning: The default value of cv will change from 3 to 5 in version 0.22. Specify it explicitly to silence this warning.\n",
      "  warnings.warn(CV_WARNING, FutureWarning)\n",
      "[Parallel(n_jobs=-1)]: Using backend LokyBackend with 12 concurrent workers.\n"
     ]
    },
    {
     "name": "stdout",
     "output_type": "stream",
     "text": [
      "Fitting 3 folds for each of 1800 candidates, totalling 5400 fits\n"
     ]
    },
    {
     "name": "stderr",
     "output_type": "stream",
     "text": [
      "[Parallel(n_jobs=-1)]: Done  64 tasks      | elapsed:    0.4s\n",
      "[Parallel(n_jobs=-1)]: Done 1569 tasks      | elapsed:    9.7s\n",
      "[Parallel(n_jobs=-1)]: Done 2819 tasks      | elapsed:   18.5s\n",
      "[Parallel(n_jobs=-1)]: Done 4569 tasks      | elapsed:   31.4s\n",
      "[Parallel(n_jobs=-1)]: Done 5400 out of 5400 | elapsed:   38.2s finished\n"
     ]
    }
   ],
   "source": [
    "n_estimators = [n for n in range(10,201,20)]\n",
    "\n",
    "max_depth = [d for d in range(1,10,2)]\n",
    "\n",
    "learning_rate = [lr/100 for lr in range(1,10)]\n",
    "\n",
    "min_samples_leaf =[msl for msl in range(1,5)]\n",
    "\n",
    "random_state=[42]\n",
    "\n",
    "param_grid = dict(n_estimators=n_estimators, max_depth=max_depth, \n",
    "                  learning_rate=learning_rate, min_samples_leaf=min_samples_leaf,random_state=random_state)\n",
    "\n",
    "grid_search = GridSearchCV(GBRG, param_grid, scoring=\"neg_mean_squared_error\", n_jobs=-1, verbose=1)\n",
    "\n",
    "grid_result = grid_search.fit(x_train_n, y_train)"
   ]
  },
  {
   "cell_type": "code",
   "execution_count": 19,
   "metadata": {},
   "outputs": [
    {
     "data": {
      "text/plain": [
       "{'learning_rate': 0.08,\n",
       " 'max_depth': 1,\n",
       " 'min_samples_leaf': 4,\n",
       " 'n_estimators': 130,\n",
       " 'random_state': 42}"
      ]
     },
     "execution_count": 19,
     "metadata": {},
     "output_type": "execute_result"
    }
   ],
   "source": [
    "grid_result.best_params_"
   ]
  },
  {
   "cell_type": "code",
   "execution_count": 20,
   "metadata": {},
   "outputs": [
    {
     "name": "stdout",
     "output_type": "stream",
     "text": [
      "MSE : 3001.758\n",
      "R2 score : -0.333\n"
     ]
    }
   ],
   "source": [
    "n_estimators = grid_result.best_params_['n_estimators']\n",
    "max_depth = grid_result.best_params_['max_depth']\n",
    "min_samples_leaf = grid_result.best_params_['min_samples_leaf']\n",
    "learning_rate = grid_result.best_params_['learning_rate']\n",
    "\n",
    "\n",
    "GBRG_best = GradientBoostingRegressor(n_estimators=n_estimators, max_depth=max_depth,\n",
    "                                      min_samples_leaf=min_samples_leaf, \n",
    "                                      learning_rate=learning_rate, random_state=42)\n",
    "\n",
    "GBRG_best.fit(x_train_n, y_train)\n",
    "\n",
    "y_pred = GBRG_best.predict(x_test_n)\n",
    "\n",
    "MSE, R2_score = metrics.mean_squared_error(y_pred, y_test), metrics.r2_score(y_pred, y_test)\n",
    "\n",
    "print(\"MSE : %.3f\"%MSE)\n",
    "\n",
    "print(\"R2 score : %.3f\"%R2_score)"
   ]
  },
  {
   "cell_type": "markdown",
   "metadata": {},
   "source": [
    "## Classification Problem"
   ]
  },
  {
   "cell_type": "code",
   "execution_count": 43,
   "metadata": {},
   "outputs": [],
   "source": [
    "wine = datasets.load_wine()\n",
    "\n",
    "x_train, x_test, y_train, y_test = train_test_split(wine.data, wine.target, test_size=0.1)\n",
    "\n",
    "normalizer = StandardScaler()\n",
    "\n",
    "normalizer.fit(wine.data)\n",
    "\n",
    "x_train_n, x_test_n = normalizer.transform(x_train), normalizer.transform(x_test)"
   ]
  },
  {
   "cell_type": "code",
   "execution_count": 44,
   "metadata": {},
   "outputs": [
    {
     "name": "stdout",
     "output_type": "stream",
     "text": [
      "Accuracy : 0.889\n",
      "F1 score : 0.915\n"
     ]
    }
   ],
   "source": [
    "GBCF = GradientBoostingClassifier(random_state=1)\n",
    "\n",
    "GBCF.fit(x_train_n, y_train)\n",
    "\n",
    "y_pred = GBCF.predict(x_test_n)\n",
    "\n",
    "Acc, F1_score = metrics.accuracy_score(y_pred, y_test), metrics.f1_score(y_pred, y_test, average='macro')\n",
    "\n",
    "print(\"Accuracy : %.3f\"%Acc)\n",
    "\n",
    "print(\"F1 score : %.3f\"%F1_score)"
   ]
  },
  {
   "cell_type": "code",
   "execution_count": 37,
   "metadata": {},
   "outputs": [
    {
     "name": "stderr",
     "output_type": "stream",
     "text": [
      "D:\\Anaconda3\\envs\\DNNGPU\\lib\\site-packages\\sklearn\\model_selection\\_split.py:1978: FutureWarning: The default value of cv will change from 3 to 5 in version 0.22. Specify it explicitly to silence this warning.\n",
      "  warnings.warn(CV_WARNING, FutureWarning)\n",
      "[Parallel(n_jobs=-1)]: Using backend LokyBackend with 12 concurrent workers.\n"
     ]
    },
    {
     "name": "stdout",
     "output_type": "stream",
     "text": [
      "Fitting 3 folds for each of 2025 candidates, totalling 6075 fits\n"
     ]
    },
    {
     "name": "stderr",
     "output_type": "stream",
     "text": [
      "[Parallel(n_jobs=-1)]: Done  28 tasks      | elapsed:    1.0s\n",
      "[Parallel(n_jobs=-1)]: Done 259 tasks      | elapsed:   12.3s\n",
      "[Parallel(n_jobs=-1)]: Done 509 tasks      | elapsed:   35.2s\n",
      "[Parallel(n_jobs=-1)]: Done 859 tasks      | elapsed:  1.0min\n",
      "[Parallel(n_jobs=-1)]: Done 1309 tasks      | elapsed:  1.6min\n",
      "[Parallel(n_jobs=-1)]: Done 1859 tasks      | elapsed:  2.1min\n",
      "[Parallel(n_jobs=-1)]: Done 2509 tasks      | elapsed:  2.8min\n",
      "[Parallel(n_jobs=-1)]: Done 3259 tasks      | elapsed:  3.5min\n",
      "[Parallel(n_jobs=-1)]: Done 4109 tasks      | elapsed:  4.2min\n",
      "[Parallel(n_jobs=-1)]: Done 5059 tasks      | elapsed:  5.0min\n",
      "[Parallel(n_jobs=-1)]: Done 6075 out of 6075 | elapsed:  5.8min finished\n"
     ]
    }
   ],
   "source": [
    "n_estimators = [n for n in range(100,600,100)]\n",
    "\n",
    "max_depth = [d for d in range(1,10,2)]\n",
    "\n",
    "learning_rate = [lr/100 for lr in range(1,10)]\n",
    "\n",
    "min_samples_leaf =[msl for msl in range(1,10)]\n",
    "\n",
    "random_state=[42]\n",
    "\n",
    "param_grid = dict(n_estimators=n_estimators, max_depth=max_depth, \n",
    "                  learning_rate=learning_rate, min_samples_leaf=min_samples_leaf,random_state=random_state)\n",
    "\n",
    "grid_search = GridSearchCV(GBCF, param_grid, scoring=\"neg_mean_squared_error\", n_jobs=-1, verbose=1)\n",
    "\n",
    "grid_result = grid_search.fit(x_train_n, y_train)"
   ]
  },
  {
   "cell_type": "code",
   "execution_count": 38,
   "metadata": {},
   "outputs": [
    {
     "data": {
      "text/plain": [
       "{'learning_rate': 0.02,\n",
       " 'max_depth': 5,\n",
       " 'min_samples_leaf': 9,\n",
       " 'n_estimators': 400,\n",
       " 'random_state': 42}"
      ]
     },
     "execution_count": 38,
     "metadata": {},
     "output_type": "execute_result"
    }
   ],
   "source": [
    "grid_result.best_params_"
   ]
  },
  {
   "cell_type": "code",
   "execution_count": 45,
   "metadata": {},
   "outputs": [
    {
     "name": "stdout",
     "output_type": "stream",
     "text": [
      "Accuracy : 1.000\n",
      "F1 score : 1.000\n"
     ]
    }
   ],
   "source": [
    "n_estimators = grid_result.best_params_['n_estimators']\n",
    "max_depth = grid_result.best_params_['max_depth']\n",
    "min_samples_leaf = grid_result.best_params_['min_samples_leaf']\n",
    "learning_rate = grid_result.best_params_['learning_rate']\n",
    "\n",
    "\n",
    "GBCF_best = GradientBoostingClassifier(n_estimators=n_estimators, max_depth=max_depth,\n",
    "                                      min_samples_leaf=min_samples_leaf, \n",
    "                                      learning_rate=learning_rate, random_state=42)\n",
    "\n",
    "GBCF_best.fit(x_train_n, y_train)\n",
    "\n",
    "y_pred = GBCF_best.predict(x_test_n)\n",
    "\n",
    "Acc, F1_score = metrics.accuracy_score(y_pred, y_test), metrics.f1_score(y_pred, y_test, average='macro')\n",
    "\n",
    "print(\"Accuracy : %.3f\"%Acc)\n",
    "\n",
    "print(\"F1 score : %.3f\"%F1_score)"
   ]
  },
  {
   "cell_type": "code",
   "execution_count": null,
   "metadata": {},
   "outputs": [],
   "source": []
  }
 ],
 "metadata": {
  "kernelspec": {
   "display_name": "Python 3",
   "language": "python",
   "name": "python3"
  },
  "language_info": {
   "codemirror_mode": {
    "name": "ipython",
    "version": 3
   },
   "file_extension": ".py",
   "mimetype": "text/x-python",
   "name": "python",
   "nbconvert_exporter": "python",
   "pygments_lexer": "ipython3",
   "version": "3.6.8"
  }
 },
 "nbformat": 4,
 "nbformat_minor": 2
}
