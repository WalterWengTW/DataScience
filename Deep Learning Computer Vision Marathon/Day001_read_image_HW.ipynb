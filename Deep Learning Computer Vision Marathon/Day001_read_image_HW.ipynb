{
 "cells": [
  {
   "cell_type": "markdown",
   "metadata": {},
   "source": [
    "# 作業\n",
    "\n",
    "思考一下我們前面有提到圖片是矩陣，但維度可能會不一樣\n",
    "例如灰階圖只有兩個維度，RGB 彩圖則有 3 個維度\n",
    "\n",
    "假如今天我們把 RGB 3 個維度拆開來看會有甚麼不同的效果呢？\n",
    "\n",
    "3 channel 有不同強度的表現，灰階可看出不同通道在不同位置有不同的深淺\n"
   ]
  },
  {
   "cell_type": "code",
   "execution_count": 1,
   "metadata": {},
   "outputs": [],
   "source": [
    "import cv2\n",
    "import numpy as np"
   ]
  },
  {
   "cell_type": "code",
   "execution_count": 2,
   "metadata": {},
   "outputs": [],
   "source": [
    "def splitRGB(img):\n",
    "    imgR = img.copy()\n",
    "    imgG = img.copy()\n",
    "    imgB = img.copy()\n",
    "    \n",
    "    imgR[:,:,0] = 0\n",
    "    imgR[:,:,1] = 0\n",
    "    imgG[:,:,0] = 0\n",
    "    imgG[:,:,2] = 0\n",
    "    imgB[:,:,1] = 0\n",
    "    imgB[:,:,2] = 0\n",
    "    return imgR, imgG, imgB\n",
    "\n",
    "def splitRGBGray(img):\n",
    "    imgR = img[:,:,2]\n",
    "    imgG = img[:,:,1]\n",
    "    imgB = img[:,:,0]\n",
    "    return imgR, imgG, imgB"
   ]
  },
  {
   "cell_type": "code",
   "execution_count": 3,
   "metadata": {},
   "outputs": [
    {
     "name": "stdout",
     "output_type": "stream",
     "text": [
      "Image channel : 3\n"
     ]
    }
   ],
   "source": [
    "img_dir = 'data/Day1/lena.png'\n",
    "img = cv2.imread(img_dir, cv2.IMREAD_COLOR)\n",
    "print(\"Image channel : %d\"%(img.shape[2]))"
   ]
  },
  {
   "cell_type": "code",
   "execution_count": 4,
   "metadata": {},
   "outputs": [],
   "source": [
    "imgR, imgG, imgB = splitRGB(img)\n",
    "cv2.imshow('R channel', imgR)\n",
    "cv2.imshow('G channel', imgG)\n",
    "cv2.imshow('B channel', imgB)\n",
    "cv2.waitKey(0)\n",
    "cv2.destroyAllWindows()"
   ]
  },
  {
   "cell_type": "code",
   "execution_count": 5,
   "metadata": {},
   "outputs": [],
   "source": [
    "imgRg, imgGg, imgBg = splitRGBGray(img)\n",
    "cv2.imshow('R channel', imgRg)\n",
    "cv2.imshow('G channel', imgGg)\n",
    "cv2.imshow('B channel', imgBg)\n",
    "cv2.waitKey(0)\n",
    "cv2.destroyAllWindows()"
   ]
  },
  {
   "cell_type": "code",
   "execution_count": null,
   "metadata": {},
   "outputs": [],
   "source": []
  }
 ],
 "metadata": {
  "kernelspec": {
   "display_name": "Python 3",
   "language": "python",
   "name": "python3"
  },
  "language_info": {
   "codemirror_mode": {
    "name": "ipython",
    "version": 3
   },
   "file_extension": ".py",
   "mimetype": "text/x-python",
   "name": "python",
   "nbconvert_exporter": "python",
   "pygments_lexer": "ipython3",
   "version": "3.6.8"
  }
 },
 "nbformat": 4,
 "nbformat_minor": 2
}
